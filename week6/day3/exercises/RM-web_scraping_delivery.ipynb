{
 "metadata": {
  "language_info": {
   "codemirror_mode": {
    "name": "ipython",
    "version": 3
   },
   "file_extension": ".py",
   "mimetype": "text/x-python",
   "name": "python",
   "nbconvert_exporter": "python",
   "pygments_lexer": "ipython3",
   "version": 3
  },
  "orig_nbformat": 2,
  "kernelspec": {
   "name": "python_defaultSpec_1595526000983",
   "display_name": "Python 3.8.3 64-bit"
  }
 },
 "nbformat": 4,
 "nbformat_minor": 2,
 "cells": [
  {
   "cell_type": "code",
   "execution_count": null,
   "metadata": {},
   "outputs": [],
   "source": []
  },
  {
   "cell_type": "markdown",
   "metadata": {},
   "source": [
    "### 1. From HTML\n",
    "\n",
    "*Using only beautiful soap*\n",
    "\n",
    "Save in a dataframe the next information using web scraping. Each row of the dataframe must have in different columns:\n",
    "\n",
    "- The name of the title\n",
    "- The id of the div where is the value scraped. If there is not id, then the value is must be numpy.nan\n",
    "- The name of the tag where is the value scraped.\n",
    "- The next scraped values in different rows: \n",
    "    - The value: \"Este es el segundo párrafo\"  --> Row 1\n",
    "    - The url https://pagina1.xyz/ --> Row 2\n",
    "    - The url https://pagina4.xyz/ --> Row 3\n",
    "    - The url https://pagina5.xyz/ --> Row 4\n",
    "    - The value \"links footer-links\" --> Row 5\n",
    "    - The value \"Este párrafo está en el footer\" --> Row 6"
   ]
  },
  {
   "cell_type": "code",
   "execution_count": 51,
   "metadata": {},
   "outputs": [],
   "source": [
    "import pandas as pd\n",
    "import re\n",
    "import requests\n",
    "from bs4 import BeautifulSoup\n",
    "import numpy as np"
   ]
  },
  {
   "cell_type": "code",
   "execution_count": 243,
   "metadata": {},
   "outputs": [],
   "source": [
    "import scrapy"
   ]
  },
  {
   "cell_type": "code",
   "execution_count": 52,
   "metadata": {},
   "outputs": [],
   "source": [
    "html = \"\"\"<html lang=\"es\">\n",
    "<head>\n",
    "    <meta charset=\"UTF-8\">\n",
    "    <title>Página de prueba</title>\n",
    "</head>\n",
    "<body>\n",
    "<div id=\"main\" class=\"full-width\">\n",
    "    <h1>El título de la página</h1>\n",
    "    <p>Este es el primer párrafo</p>\n",
    "    <p>Este es el segundo párrafo</p>\n",
    "    <div id=\"innerDiv\">\n",
    "        <div class=\"links\">\n",
    "            <a href=\"https://pagina1.xyz/\">Enlace 1</a>\n",
    "            <a href=\"https://pagina2.xyz/\">Enlace 2</a>\n",
    "        </div>\n",
    "        <div class=\"right\">\n",
    "            <div class=\"links\">\n",
    "                <a href=\"https://pagina3.xyz/\">Enlace 3</a>\n",
    "                <a href=\"https://pagina4.xyz/\">Enlace 4</a>\n",
    "            </div>\n",
    "        </div>\n",
    "    </div>\n",
    "    <div id=\"footer\">\n",
    "        <!-- El footer -->\n",
    "        <p>Este párrafo está en el footer</p>\n",
    "        <div class=\"links footer-links\">\n",
    "            <a href=\"https://pagina5.xyz/\">Enlace 5</a>\n",
    "        </div>\n",
    "    </div>\n",
    "</div>\n",
    "</body>\n",
    "</html>\"\"\""
   ]
  },
  {
   "cell_type": "code",
   "execution_count": 53,
   "metadata": {},
   "outputs": [],
   "source": [
    "def show_html(html_str):\n",
    "    print(BeautifulSoup(str(html_str), \"html.parser\"). prettify())"
   ]
  },
  {
   "cell_type": "code",
   "execution_count": 54,
   "metadata": {
    "tags": []
   },
   "outputs": [
    {
     "output_type": "stream",
     "name": "stdout",
     "text": "title: 892\n"
    }
   ],
   "source": [
    "for element in html:\n",
    "    print(f'title: {len(html)}')\n",
    "    break"
   ]
  },
  {
   "cell_type": "markdown",
   "metadata": {},
   "source": [
    "#The name of the title"
   ]
  },
  {
   "cell_type": "code",
   "execution_count": 104,
   "metadata": {},
   "outputs": [
    {
     "output_type": "execute_result",
     "data": {
      "text/plain": "<title>Página de prueba</title>"
     },
     "metadata": {},
     "execution_count": 104
    }
   ],
   "source": [
    "soup.find('title')"
   ]
  },
  {
   "cell_type": "code",
   "execution_count": 129,
   "metadata": {
    "tags": []
   },
   "outputs": [
    {
     "output_type": "stream",
     "name": "stdout",
     "text": "Página de prueba\n"
    }
   ],
   "source": [
    "soup = BeautifulSoup(html, \"html.parser\")\n",
    "title = str(soup.title.contents[0])\n",
    "print(title)\n"
   ]
  },
  {
   "cell_type": "markdown",
   "metadata": {},
   "source": [
    "#The id of the div where is the value scraped. If there is not id, then the value is must be numpy.nan"
   ]
  },
  {
   "cell_type": "code",
   "execution_count": 106,
   "metadata": {},
   "outputs": [
    {
     "output_type": "execute_result",
     "data": {
      "text/plain": "{'id': 'main', 'class': ['full-width']}"
     },
     "metadata": {},
     "execution_count": 106
    }
   ],
   "source": [
    "div_main = soup.div\n",
    "div_main ['id']\n",
    "div_main.attrs"
   ]
  },
  {
   "cell_type": "code",
   "execution_count": 107,
   "metadata": {},
   "outputs": [
    {
     "output_type": "execute_result",
     "data": {
      "text/plain": "'main'"
     },
     "metadata": {},
     "execution_count": 107
    }
   ],
   "source": [
    "div = soup.div\n",
    "div[\"id\"]"
   ]
  },
  {
   "cell_type": "markdown",
   "metadata": {},
   "source": [
    "#The name of the tag where is the value scrapped."
   ]
  },
  {
   "cell_type": "code",
   "execution_count": 89,
   "metadata": {},
   "outputs": [
    {
     "output_type": "execute_result",
     "data": {
      "text/plain": "<div id=\"innerDiv\">\n<div class=\"links\">\n<a href=\"https://pagina1.xyz/\">Enlace 1</a>\n<a href=\"https://pagina2.xyz/\">Enlace 2</a>\n</div>\n<div class=\"right\">\n<div class=\"links\">\n<a href=\"https://pagina3.xyz/\">Enlace 3</a>\n<a href=\"https://pagina4.xyz/\">Enlace 4</a>\n</div>\n</div>\n</div>"
     },
     "metadata": {},
     "execution_count": 89
    }
   ],
   "source": [
    "soup.div.div"
   ]
  },
  {
   "cell_type": "code",
   "execution_count": 156,
   "metadata": {},
   "outputs": [
    {
     "output_type": "execute_result",
     "data": {
      "text/plain": "['id=\"main\">', 'id=\"innerDiv\">', 'id=\"footer\">']"
     },
     "metadata": {},
     "execution_count": 156
    }
   ],
   "source": [
    "lista = re.findall(\"id=.*\",str(soup.contents[0]))\n",
    "lista"
   ]
  },
  {
   "cell_type": "markdown",
   "metadata": {},
   "source": [
    "#The next scraped values in different rows:"
   ]
  },
  {
   "cell_type": "code",
   "execution_count": 116,
   "metadata": {
    "tags": []
   },
   "outputs": [
    {
     "output_type": "stream",
     "name": "stdout",
     "text": "[\n<p>\n Este es el primer párrafo\n</p>\n,\n<p>\n Este es el segundo párrafo\n</p>\n,\n<p>\n Este párrafo está en el footer\n</p>\n]\n\n"
    }
   ],
   "source": [
    "items = soup.find_all('p') \n",
    "show_html(items)"
   ]
  },
  {
   "cell_type": "code",
   "execution_count": 177,
   "metadata": {},
   "outputs": [
    {
     "output_type": "execute_result",
     "data": {
      "text/plain": "[<a href=\"https://pagina1.xyz/\">Enlace 1</a>,\n <a href=\"https://pagina2.xyz/\">Enlace 2</a>,\n <a href=\"https://pagina3.xyz/\">Enlace 3</a>,\n <a href=\"https://pagina4.xyz/\">Enlace 4</a>,\n <a href=\"https://pagina5.xyz/\">Enlace 5</a>]"
     },
     "metadata": {},
     "execution_count": 177
    }
   ],
   "source": [
    "items2 = soup.findAll('a')\n",
    "items2"
   ]
  },
  {
   "cell_type": "code",
   "execution_count": 176,
   "metadata": {},
   "outputs": [
    {
     "output_type": "execute_result",
     "data": {
      "text/plain": "['<p>', '<p>', '<p>']"
     },
     "metadata": {},
     "execution_count": 176
    }
   ],
   "source": [
    "tag = re.findall(\"<p>\",str(soup.contents[0]))\n",
    "tag"
   ]
  },
  {
   "cell_type": "code",
   "execution_count": null,
   "metadata": {
    "tags": []
   },
   "outputs": [],
   "source": [
    "##for elem in tag:\n",
    "  ##  link = soup.get('p')\n",
    "    ##print(link)"
   ]
  },
  {
   "cell_type": "code",
   "execution_count": 91,
   "metadata": {
    "tags": []
   },
   "outputs": [
    {
     "output_type": "stream",
     "name": "stdout",
     "text": "<a href=\"https://pagina1.xyz/\">Enlace 1</a>\n<a href=\"https://pagina2.xyz/\">Enlace 2</a>\n<a href=\"https://pagina3.xyz/\">Enlace 3</a>\n<a href=\"https://pagina4.xyz/\">Enlace 4</a>\n<a href=\"https://pagina5.xyz/\">Enlace 5</a>\n"
    }
   ],
   "source": [
    "links = soup.find_all('a')\n",
    "for link in links: \n",
    "    print (link)"
   ]
  },
  {
   "cell_type": "code",
   "execution_count": 115,
   "metadata": {},
   "outputs": [
    {
     "output_type": "execute_result",
     "data": {
      "text/plain": "'Este es el primer párrafo'"
     },
     "metadata": {},
     "execution_count": 115
    }
   ],
   "source": [
    "first_paragraph = soup.p\n",
    "text = first_paragraph.string\n",
    "text"
   ]
  },
  {
   "cell_type": "code",
   "execution_count": 117,
   "metadata": {
    "tags": []
   },
   "outputs": [
    {
     "output_type": "stream",
     "name": "stdout",
     "text": "https://pagina1.xyz/\nhttps://pagina2.xyz/\nhttps://pagina3.xyz/\nhttps://pagina4.xyz/\nhttps://pagina5.xyz/\n"
    }
   ],
   "source": [
    "list3 = []\n",
    "for link in soup.find_all('a'):\n",
    "    print(link.get('href'))\n",
    "    list3.append(link.get(\"href\"))"
   ]
  },
  {
   "cell_type": "code",
   "execution_count": 74,
   "metadata": {},
   "outputs": [
    {
     "output_type": "execute_result",
     "data": {
      "text/plain": "bs4.element.NavigableString"
     },
     "metadata": {},
     "execution_count": 74
    }
   ],
   "source": [
    "type(text) "
   ]
  },
  {
   "cell_type": "code",
   "execution_count": 101,
   "metadata": {
    "tags": []
   },
   "outputs": [
    {
     "output_type": "stream",
     "name": "stdout",
     "text": "[<div id=\"footer\">\n<!-- El footer -->\n<p>Este párrafo está en el footer</p>\n<div class=\"links footer-links\">\n<a href=\"https://pagina5.xyz/\">Enlace 5</a>\n</div>\n</div>]\n"
    }
   ],
   "source": [
    "footer=soup.find_all(id='footer')\n",
    "print(footer)"
   ]
  },
  {
   "cell_type": "code",
   "execution_count": 113,
   "metadata": {
    "tags": []
   },
   "outputs": [
    {
     "output_type": "stream",
     "name": "stdout",
     "text": "[<div class=\"links footer-links\">\n<a href=\"https://pagina5.xyz/\">Enlace 5</a>\n</div>]\n"
    }
   ],
   "source": [
    "footer_links=soup.find_all(class_='links footer-links')\n",
    "print(footer_links) "
   ]
  },
  {
   "cell_type": "code",
   "execution_count": 118,
   "metadata": {},
   "outputs": [
    {
     "output_type": "execute_result",
     "data": {
      "text/plain": "[<head>\n <meta charset=\"utf-8\"/>\n <title>Página de prueba</title>\n </head>,\n <meta charset=\"utf-8\"/>,\n <a href=\"https://pagina1.xyz/\">Enlace 1</a>,\n <a href=\"https://pagina2.xyz/\">Enlace 2</a>,\n <a href=\"https://pagina3.xyz/\">Enlace 3</a>,\n <a href=\"https://pagina4.xyz/\">Enlace 4</a>,\n <a href=\"https://pagina5.xyz/\">Enlace 5</a>]"
     },
     "metadata": {},
     "execution_count": 118
    }
   ],
   "source": [
    "soup.findAll(re.compile(\"a\"))"
   ]
  },
  {
   "cell_type": "code",
   "execution_count": 63,
   "metadata": {
    "tags": []
   },
   "outputs": [
    {
     "output_type": "stream",
     "name": "stdout",
     "text": "<div class=\"full-width\" id=\"main\">\n<h1>El título de la página</h1>\n<p>Este es el primer párrafo</p>\n<p>Este es el segundo párrafo</p>\n<div id=\"innerDiv\">\n<div class=\"links\">\n<a href=\"https://pagina1.xyz/\">Enlace 1</a>\n<a href=\"https://pagina2.xyz/\">Enlace 2</a>\n</div>\n<div class=\"right\">\n<div class=\"links\">\n<a href=\"https://pagina3.xyz/\">Enlace 3</a>\n<a href=\"https://pagina4.xyz/\">Enlace 4</a>\n</div>\n</div>\n</div>\n<div id=\"footer\">\n<!-- El footer -->\n<p>Este párrafo está en el footer</p>\n<div class=\"links footer-links\">\n<a href=\"https://pagina5.xyz/\">Enlace 5</a>\n</div>\n</div>\n</div>\n"
    }
   ],
   "source": [
    "soup.find(\"div\")\n",
    "list1 = soup.select(\"div\")\n",
    "print(list1[0])"
   ]
  },
  {
   "cell_type": "code",
   "execution_count": 93,
   "metadata": {},
   "outputs": [
    {
     "output_type": "execute_result",
     "data": {
      "text/plain": "[<p>Este es el primer párrafo</p>,\n <p>Este es el segundo párrafo</p>,\n <p>Este párrafo está en el footer</p>]"
     },
     "metadata": {},
     "execution_count": 93
    }
   ],
   "source": [
    "p = soup.findAll(\"p\")\n",
    "p"
   ]
  },
  {
   "cell_type": "code",
   "execution_count": 76,
   "metadata": {},
   "outputs": [
    {
     "output_type": "execute_result",
     "data": {
      "text/plain": "bs4.element.ResultSet"
     },
     "metadata": {},
     "execution_count": 76
    }
   ],
   "source": [
    "type(p)"
   ]
  },
  {
   "cell_type": "code",
   "execution_count": 7,
   "metadata": {
    "tags": []
   },
   "outputs": [
    {
     "output_type": "stream",
     "name": "stdout",
     "text": "Página de prueba\n\n\n\nEl título de la página\nEste es el primer párrafo\nEste es el segundo párrafo\n\n\nEnlace 1\nEnlace 2\n\n\n\nEnlace 3\nEnlace 4\n\n\n\n\n\nEste párrafo está en el footer\n\nEnlace 5\n\n"
    }
   ],
   "source": [
    "soup = BeautifulSoup(html, \"html.parser\")\n",
    "show_html(soup.text)"
   ]
  },
  {
   "cell_type": "code",
   "execution_count": null,
   "metadata": {},
   "outputs": [],
   "source": [
    "#rows from 1 to 6"
   ]
  },
  {
   "cell_type": "code",
   "execution_count": 94,
   "metadata": {
    "tags": []
   },
   "outputs": [
    {
     "output_type": "stream",
     "name": "stdout",
     "text": "[<p>Este es el primer párrafo</p>]\n[<p>Este es el primer párrafo</p>, <p>Este es el segundo párrafo</p>]\n[<p>Este es el primer párrafo</p>, <p>Este es el segundo párrafo</p>, <p>Este párrafo está en el footer</p>]\n"
    }
   ],
   "source": [
    "titulo = []\n",
    "for x in p:\n",
    "    titulo.append(x)\n",
    "    print(titulo)"
   ]
  },
  {
   "cell_type": "code",
   "execution_count": null,
   "metadata": {},
   "outputs": [],
   "source": [
    "for x in id:\n",
    "    print(id.contents[0])\n",
    "    print(list_id)\n",
    "#show_html(artist_name_list_items)"
   ]
  },
  {
   "cell_type": "code",
   "execution_count": 128,
   "metadata": {},
   "outputs": [
    {
     "output_type": "execute_result",
     "data": {
      "text/plain": "bs4.element.NavigableString"
     },
     "metadata": {},
     "execution_count": 128
    }
   ],
   "source": [
    "type(title)"
   ]
  },
  {
   "cell_type": "code",
   "execution_count": 158,
   "metadata": {},
   "outputs": [
    {
     "output_type": "execute_result",
     "data": {
      "text/plain": "['id=\"main\">', 'id=\"innerDiv\">', 'id=\"footer\">', 'Nan', 'Nan']"
     },
     "metadata": {},
     "execution_count": 158
    }
   ],
   "source": [
    "lista.append('Nan')\n",
    "lista"
   ]
  },
  {
   "cell_type": "code",
   "execution_count": 178,
   "metadata": {},
   "outputs": [
    {
     "output_type": "execute_result",
     "data": {
      "text/plain": "[<a href=\"https://pagina1.xyz/\">Enlace 1</a>,\n <a href=\"https://pagina2.xyz/\">Enlace 2</a>,\n <a href=\"https://pagina3.xyz/\">Enlace 3</a>,\n <a href=\"https://pagina4.xyz/\">Enlace 4</a>,\n <a href=\"https://pagina5.xyz/\">Enlace 5</a>]"
     },
     "metadata": {},
     "execution_count": 178
    }
   ],
   "source": [
    "items2 = soup.findAll('a')\n",
    "items2"
   ]
  },
  {
   "cell_type": "code",
   "execution_count": null,
   "metadata": {
    "tags": []
   },
   "outputs": [],
   "source": [
    "##tags = []\n",
    "##for x in items2:\n",
    "  ##  tags = x.get()\n",
    "    ##print(tags)\n"
   ]
  },
  {
   "cell_type": "code",
   "execution_count": 223,
   "metadata": {},
   "outputs": [
    {
     "output_type": "execute_result",
     "data": {
      "text/plain": "'a'"
     },
     "metadata": {},
     "execution_count": 223
    }
   ],
   "source": [
    "soup = BeautifulSoup('<a href=\"https://pagina1.xyz/\">Enlace 1</a>')\n",
    "tag1 = soup.a\n",
    "tags1 = tag1.name\n",
    "tags1"
   ]
  },
  {
   "cell_type": "code",
   "execution_count": 224,
   "metadata": {},
   "outputs": [
    {
     "output_type": "execute_result",
     "data": {
      "text/plain": "'a'"
     },
     "metadata": {},
     "execution_count": 224
    }
   ],
   "source": [
    "soup = BeautifulSoup('<a href=\"https://pagina4.xyz/\">Enlace 4</a>')\n",
    "tag2 = soup.a\n",
    "tags2 = tag2.name\n",
    "tags2"
   ]
  },
  {
   "cell_type": "code",
   "execution_count": 225,
   "metadata": {},
   "outputs": [
    {
     "output_type": "execute_result",
     "data": {
      "text/plain": "'a'"
     },
     "metadata": {},
     "execution_count": 225
    }
   ],
   "source": [
    "soup = BeautifulSoup('<a href=\"https://pagina5.xyz/\">Enlace 5</a>')\n",
    "tag5 = soup.a\n",
    "tags5 = tag5.name\n",
    "tags5"
   ]
  },
  {
   "cell_type": "code",
   "execution_count": 221,
   "metadata": {},
   "outputs": [
    {
     "output_type": "execute_result",
     "data": {
      "text/plain": "'p'"
     },
     "metadata": {},
     "execution_count": 221
    }
   ],
   "source": [
    "soup = BeautifulSoup('<p>Este es el primer párrafo</p>')\n",
    "tag3 = soup.p\n",
    "tags3 = tag3.name\n",
    "tags3"
   ]
  },
  {
   "cell_type": "code",
   "execution_count": 222,
   "metadata": {},
   "outputs": [
    {
     "output_type": "execute_result",
     "data": {
      "text/plain": "'p'"
     },
     "metadata": {},
     "execution_count": 222
    }
   ],
   "source": [
    "soup = BeautifulSoup('<p>Este párrafo está en el footer</p>')\n",
    "tag4 = soup.p\n",
    "tags4 = tag4.name\n",
    "tags4"
   ]
  },
  {
   "cell_type": "code",
   "execution_count": 199,
   "metadata": {},
   "outputs": [
    {
     "output_type": "execute_result",
     "data": {
      "text/plain": "['https://pagina1.xyz/',\n 'https://pagina2.xyz/',\n 'https://pagina3.xyz/',\n 'https://pagina4.xyz/',\n 'https://pagina5.xyz/']"
     },
     "metadata": {},
     "execution_count": 199
    }
   ],
   "source": [
    "list3"
   ]
  },
  {
   "cell_type": "code",
   "execution_count": 235,
   "metadata": {},
   "outputs": [
    {
     "output_type": "execute_result",
     "data": {
      "text/plain": "['Este es el segundo párrafo']"
     },
     "metadata": {},
     "execution_count": 235
    }
   ],
   "source": [
    "value2 = ['Este es el segundo párrafo']\n",
    "value2"
   ]
  },
  {
   "cell_type": "code",
   "execution_count": 234,
   "metadata": {},
   "outputs": [
    {
     "output_type": "execute_result",
     "data": {
      "text/plain": "[<p>Este párrafo está en el footer</p>]"
     },
     "metadata": {},
     "execution_count": 234
    }
   ],
   "source": [
    "foot = titulo[2:3]\n",
    "foot"
   ]
  },
  {
   "cell_type": "code",
   "execution_count": 236,
   "metadata": {},
   "outputs": [
    {
     "output_type": "execute_result",
     "data": {
      "text/plain": "[['Este es el segundo párrafo'],\n 'https://pagina1.xyz/',\n 'https://pagina4.xyz/',\n 'https://pagina5.xyz/',\n [<p>Este párrafo está en el footer</p>]]"
     },
     "metadata": {},
     "execution_count": 236
    }
   ],
   "source": [
    "listdef = [value2, list3[0], list3[3], list3[4], foot]\n",
    "listdef"
   ]
  },
  {
   "cell_type": "code",
   "execution_count": 237,
   "metadata": {},
   "outputs": [
    {
     "output_type": "execute_result",
     "data": {
      "text/plain": "              title          id_Div tag                               links\n0  Página de prueba      id=\"main\">   a        [Este es el segundo párrafo]\n1  Página de prueba  id=\"innerDiv\">   a                https://pagina1.xyz/\n2  Página de prueba    id=\"footer\">   p                https://pagina4.xyz/\n3  Página de prueba             Nan   a                https://pagina5.xyz/\n4  Página de prueba             Nan   p  [[Este párrafo está en el footer]]",
      "text/html": "<div>\n<style scoped>\n    .dataframe tbody tr th:only-of-type {\n        vertical-align: middle;\n    }\n\n    .dataframe tbody tr th {\n        vertical-align: top;\n    }\n\n    .dataframe thead th {\n        text-align: right;\n    }\n</style>\n<table border=\"1\" class=\"dataframe\">\n  <thead>\n    <tr style=\"text-align: right;\">\n      <th></th>\n      <th>title</th>\n      <th>id_Div</th>\n      <th>tag</th>\n      <th>links</th>\n    </tr>\n  </thead>\n  <tbody>\n    <tr>\n      <th>0</th>\n      <td>Página de prueba</td>\n      <td>id=\"main\"&gt;</td>\n      <td>a</td>\n      <td>[Este es el segundo párrafo]</td>\n    </tr>\n    <tr>\n      <th>1</th>\n      <td>Página de prueba</td>\n      <td>id=\"innerDiv\"&gt;</td>\n      <td>a</td>\n      <td>https://pagina1.xyz/</td>\n    </tr>\n    <tr>\n      <th>2</th>\n      <td>Página de prueba</td>\n      <td>id=\"footer\"&gt;</td>\n      <td>p</td>\n      <td>https://pagina4.xyz/</td>\n    </tr>\n    <tr>\n      <th>3</th>\n      <td>Página de prueba</td>\n      <td>Nan</td>\n      <td>a</td>\n      <td>https://pagina5.xyz/</td>\n    </tr>\n    <tr>\n      <th>4</th>\n      <td>Página de prueba</td>\n      <td>Nan</td>\n      <td>p</td>\n      <td>[[Este párrafo está en el footer]]</td>\n    </tr>\n  </tbody>\n</table>\n</div>"
     },
     "metadata": {},
     "execution_count": 237
    }
   ],
   "source": [
    "info = {'title': [title, title, title, title, title],\n",
    "        'id_Div': lista,\n",
    "        'tag': [tags1, tags2, tags3, tags5, tags4],\n",
    "        'links': listdef}\n",
    "\n",
    "df = pd.DataFrame(info)\n",
    "df"
   ]
  },
  {
   "cell_type": "markdown",
   "metadata": {},
   "source": []
  },
  {
   "cell_type": "markdown",
   "metadata": {},
   "source": [
    "### 1. From Amazon\n",
    "\n",
    "*Using  beautiful soap and/or regex*\n",
    "\n",
    "Save in a dataframe the next information using web scraping. Using product pages from Amazon, do the following: \n",
    "\n",
    "- Get the product name from the web and save it in a column called \"item_name\"\n",
    "- Get the price from the web and save it in a column called \"item_price\"\n",
    "\n",
    "While you are doing the exercise, document the steps you are doing. Try to do the program for generic pages. If you cannot do it generic, explain the reasons. \n",
    "\n",
    "-------------------------------\n",
    "\n",
    "**Example:** \n",
    "\n",
    "url = https://www.amazon.es/Tommy-Hilfiger-UM0UM00054-Camiseta-Hombre/dp/B01MYD0T1F/ref=sr_1_1?dchild=1&pf_rd_p=58224bec-cac9-4dd2-a42a-61b1db609c2d&pf_rd_r=VZQ1JTQXFVRZ9E9VSKX4&qid=1595364419&s=apparel&sr=1-1\n",
    "\n",
    "*item_name* --> \"Tommy Hilfiger Logo Camiseta de Cuello Redondo,Perfecta para El Tiempo Libre para Hombre\"\n",
    "\n",
    "*item_price* --> [[18,99 € - 46,59 €]] or one of the options.\n",
    "\n",
    "\n"
   ]
  },
  {
   "cell_type": "code",
   "execution_count": 333,
   "metadata": {},
   "outputs": [],
   "source": [
    "# Collect first page of amazons’ product\n",
    "page = requests.get('https://www.amazon.es/Tommy-Hilfiger-UM0UM00054-Camiseta-Hombre/dp/B01MYD0T1F/ref=sr_1_1?dchild=1&pf_rd_p=58224bec-cac9-4dd2-a42a-61b1db609c2d&pf_rd_r=VZQ1JTQXFVRZ9E9VSKX4&qid=1595364419&s=apparel&sr=1-1')\n"
   ]
  },
  {
   "cell_type": "code",
   "execution_count": 334,
   "metadata": {
    "tags": [
     "outputPrepend"
    ]
   },
   "outputs": [
    {
     "output_type": "stream",
     "name": "stdout",
     "text": "     \n\n\n\n4,6 de un máximo de 5 estrellas\n\n168\n\n28,85 € - 39,95 € \n\n\n\n\n\n            Tommy Hilfiger Core Stretch Slim Cneck tee Camiseta para Hombre\n        \n\n\n\n4,4 de un máximo de 5 estrellas\n\n1.400\n\n24,85 € - 45,00 € \n\n\nSiguiente\n\n\n\n\n\n\n\n\n\n\n\n\n\n\n\n¿Qué otros productos compran los clientes tras ver este producto?Página 1 de 1 Volver al inicioPágina 1 de 1  \nEsta función de compra continuará cargando productos cuando se presione la tecla Intro. Para navegar fuera de este carrusel, usa tu tecla de acceso rápido de encabezados para navegar hacia el encabezado siguiente o anterior.\nAtrás\n\n\n\n\n            Pepe Jeans Original Stretch Camiseta para Hombre\n        \n\n\n\n4,1 de un máximo de 5 estrellas\n\n373\n\n14,99 € - 25,00 € \n\n\n\n\n\n            Jack &amp; Jones Jjecorp Logo tee SS Crew Neck Noos Camiseta para Hombre\n        \n\n\n\n4,6 de un máximo de 5 estrellas\n\n5.005\n\n8,40 € - 26,98 € \n\n\n\n\n\n            Levi's Relaxed Graphic tee Camiseta para Hombre\n        \n\n\n\n4,3 de un máximo de 5 estrellas\n\n186\n\n13,99 € - 43,08 € \n\n\n\n\n\n            Tommy Hilfiger RN tee SS Camiseta para Hombre\n        \n\n\n\n4,5 de un máximo de 5 estrellas\n\n148\n\n19,95 € - 41,46 € \n\n\n\n\n\n            Levi's Sportswear Logo Graphic - Camiseta para Hombre\n        \n\n\n\n4,5 de un máximo de 5 estrellas\n\n1.430\n\n10,99 € - 47,89 € \n\n\n\n\n\n            Levi's Housemark Graphic tee Camiseta para Hombre\n        \n\n\n\n4,5 de un máximo de 5 estrellas\n\n1.478\n\n14,50 € - 47,89 € \n\n\nSiguiente\n\n\n\n\n\n\n\n\n\n\n\n\n\n\n\n\n\n\n\n\n\nDescripción del producto\n\n\n\n\nDe Tommy Hilfiger viene la camiseta con el logo arqueado en color azul marino, con un logo en el pecho y en la manga izquierda. Con un diseño sencillo, esta camiseta tiene cuello redondo y manga corta.\n\n\n\n\n\n\n\n\n\n\n\n\n\n\n\n\nMás información del producto\n\n\n\n\n\n\n\n\n\n\n\n\n\n\n\n\n\n\nLeer más\n\n\n\n\n\n\n        TOMMY HILFIGER\n    \n\n\n\n        ESTILO DESENFADADO MODERNO, CONFIADO Y RELAJADO\n    \n\nTommy Hilfiger celebra la esencia del clásico look Americano con un toque de estilo. Descubre los últimos estilos en ropa, zapatos, bolsos y accesorios para mujeres y hombres. ¿Quieres ir de compras para un evento glamoroso, casual o para una gran noche? Tommy Hilfiger para hombres y mujeres lo tiene todo.\n        \n\n\n\n\n\n\nTommy Hilfiger Men's Tops\n\n\n\n\n\n\n\n\n\n\n\n\n\n\n\n\n\n\n\n\n\n\n\n\n\n\n\n\n\n\n\n\n\n\n\n\n\nShort Sleeve Logo Tee\n\n\n\n\nCore Stretch Slim Oxford Shirt \n\n\n\n\nCore Hilfiger Regular Polo Shirt \n\n\n\n\nCotton Icon Short Sleeve Sports Shirt \n\n\n\n\n\n\nMaterial Composition\n\n\n\n\n100% Cotton \n\n\n\n\n98% Cotton, 2% Elastane \n\n\n\n\n100% Cotton \n\n\n\n\n100% Cotton \n\n\n\n\n\n\nFit\n\n\n\n\nRegular Fit \n\n\n\n\nSlim Fit\n\n\n\n\nRegular Fit \n\n\n\n\nRegular Fit \n\n\n\n\n\n\nCollar\n\n\n\n\nClub Collar\n\n\n\n\nButton-Down\n\n\n\n\nPolo\n\n\n\n\nCrew Neck \n\n\n\n\n\n\n\n\n\n\n\n\n\n\n\n\n\n\n\n\n\n\n\n\n\n\n\n\n\n\nDetalles del producto\n\n\nNúmero de modelo del producto: UM0UM00054\nASIN: B01N4M8EZI\n Producto en Amazon.es desde: 3 de febrero de 2017\nOpiniones de los clientes: 4,3 de 5 estrellas1.074 valoraciones de clientes\n\n\nClasificación en los más vendidos de Amazon: \n\n\n\n\n\n\n\n\n\n\n\n\n\nnº8 en Ropa (Ver el Top 100 en Ropa)\n \n\n\n\n\n\n\n\n\nn.° 1\nen Camisetas de pijama para hombre\n\n\n\nWould you like to tell us about a lower price?\n\n\n\n\n\n\n\n\n\n\n\n\n\n\n\n\n\n\n\n\n\n\n\n\n\n\nThis form is not active. It will not be visible to external customers unless it is active.\n\n\n\n\nThis is an internal only form.\n\n\n\n\n\n\n\n\n\n\n\n\n\n\n        Lo sentimos\n      \n\n\n          Este formulario ya no está disponible.\n        \n\n\n\n\n\n\n\n\n\n\n\n\n\n        Lo sentimos\n      \n\n\n          Este formulario ya no está disponible.\n        \n\n\n\n\n\n\n\n\n\n\n\n\n\n\n\n\n\n\n\n\n\n\n\n            Preguntas y respuestas de los clientes\n        \n\nVer preguntas y respuestas\n\n\n\n\n\n\n\n\n\n\n\n\n\n\n\n\nOpiniones de clientes4,3 de 5 estrellas4,3 de 5\n            1.074 valoraciones de clientes\n\n\n\n\n\n\n            5 estrellas\n          \n\n\n\n\n\n\n\n\n\n\n\n\n            \n              67%\n            \n          \n\n\n\n\n\n\n\n            4 estrellas\n          \n\n\n\n\n\n\n\n\n\n\n\n\n            \n              15%\n            \n          \n\n\n\n\n\n\n\n            3 estrellas\n          \n\n\n\n\n\n\n\n\n\n\n\n\n            \n              9%\n            \n          \n\n\n\n\n\n\n\n            2 estrellas\n          \n\n\n\n\n\n\n\n\n\n\n\n\n            \n              3%\n            \n          \n\n\n\n\n\n\n\n            1 estrella\n          \n\n\n\n\n\n\n\n\n\n\n\n\n            \n              6%\n            \n          \n\n\n\n\n¿Cómo calcula Amazon las valoraciones?Amazon calcula las valoraciones de un producto utilizando un modelo de programación de máquina en lugar de un modelo de media de datos sin procesar. El modelo de máquina tiene en cuenta factores como, por ejemplo, la antigüedad de la reseña, la utilidad de los votos de los clientes y si las reseñas son de compras verificadas.\n\n\n\n\n\n\n\n\n\n\n\n        Reseñas más importantes\n      \n\n        Más recientes\n      \nReseñas más importantes\n\n\n\nHa surgido un problema al filtrar las opiniones justo en este momento. Vuelva a intentarlo en otro momento.RAW1,0 de 5 estrellas\nNo recomendable\nRevisado en España el 13 de mayo de 2020Tamaño: XLColor: Blanco (White)Compra verificada\nLa camiseta queda extremadamente pequeña y muy ceñida y eso que es una XL mido 1,82 peso 79 kl material se ve de calidad y muy bonita pero las costuras del hombro son algo extrañas y muy decepcionado con la talla para ser XL me queda como una M, de largo del busto bien pero muy muy estrecha Las mangas bien cuello correcto pero hombros mal quedan como si llevaras hombreras cintura muy mal muy ceñida estrecha la camiseta es para personas en los huesos el envío de la camiseta muy rápidos tengo otras prendas de esta Marca como camisa o sudadera y las tallas son correctas no entiendo las medidas de esta camiseta la verdad.\nLeer más\nA 3 personas les ha parecido esto útil\n\n          Útil\n\n\nComentar\nInformar de un abuso\nAndi5,0 de 5 estrellas\nMe encanta esta camiseta\nRevisado en España el 10 de junio de 2020Tamaño: MColor: Blanco (White)Compra verificada\nEl logo me gusta mucho, por ello, que sea toda tan \"limpia\" y sencilla destacando el logo, me gusta mucho. Además, TH es de las mejores en calidad de ropa, se nota buena calidad del material. Muy buena compra. Precio imbatible (al que yo compré).\nLeer más\nA una persona le ha parecido esto útil\n\n          Útil\n\n\nComentar\nInformar de un abuso\nAmparo5,0 de 5 estrellas\nMuy bonita pero un poco pequeña\nRevisado en España el 27 de septiembre de 2019Tamaño: XLColor: Azul (Navy Blazer)Compra verificada\nLa camiseta está muy bien pero talla un poco pequeña, compré varias de otras marcas y esta es la única que he tenido que cambiar por una talla mas.Recomiendo una talla más de la habitual.\nLeer más\nA 2 personas les ha parecido esto útil\n\n          Útil\n\n\nComentar\nInformar de un abuso\nYavWar4,0 de 5 estrellas\nEstá bien\nRevisado en España el 9 de julio de 2019Tamaño: MColor: Gris (Grey Heather)Compra verificada\nCompré esta camiseta para un regalo. El modelo como tal es bonito y no ha salido mal de precio (24 €). La calidad es normalita, nada diferente a cualquier camiseta de algodón que puedas adquirir por precios inferiores; creo que al final acabas pagando la marca ... La talla M correcta, sienta bien.\nLeer más\nA una persona le ha parecido esto útil\n\n          Útil\n\n\nComentar\nInformar de un abuso\nAmidala6665,0 de 5 estrellas\nMuy buena compra\nRevisado en España el 11 de abril de 2019Tamaño: XLColor: Azul (Navy Blazer)Compra verificada\nÉsta camiseta si q es preciosa d diez. La talla es calcada a la q normalmente se usa, es d algodón una tela hermosa no marca tan excesivamente como si fuera poliéster queda fenomenal. La recomiendo es tal cual la foto\nLeer más\nA 2 personas les ha parecido esto útil\n\n          Útil\n\n\nComentar\nInformar de un abuso\nCeleste5,0 de 5 estrellas\nLa recomendo 100% acierto seguro\nRevisado en España el 8 de enero de 2019Tamaño: MColor: Azul (Navy Blazer)Compra verificada\nSe la compré a mi novio, le cogí la talla M que es la que usa siempre en todas las camisetas y le queda perfecta. El estampado y la tela está como el primer día y tiene ya muchos lavados. La recomiendo 100%\nLeer más\nA 3 personas les ha parecido esto útil\n\n          Útil\n\n\nComentar\nInformar de un abuso\nMercedes3,0 de 5 estrellas\nComo en la foto\nRevisado en España el 13 de marzo de 2019Tamaño: SColor: Gris (Grey Heather)Compra verificada\nLa calidad del algodón se ve que es de calidad aunque no he realizado ningún lavado por lo que no sé si se deforma o no. La talla es europea por lo que queda como esperaba.\nLeer más\nA una persona le ha parecido esto útil\n\n          Útil\n\n\nComentar\nInformar de un abuso\nAlbert3,0 de 5 estrellas\nTalla un poco más grande de lo que debería\nRevisado en España el 16 de abril de 2018Compra verificada\nLa talla es un poco más grande de lo que debería ser. La camiseta estaba bien, pero claro, si no te va bien...\nLeer más\nA 3 personas les ha parecido esto útil\n\n          Útil\n\n\nComentar\nInformar de un abuso\nVer todas las reseñas de España\n\n\n\n\n\n\n      \n        \n        \n          Las mejores reseñas internacionales\n        \n      \n    \n\n\nTraducir todas las reseñas al Español\n\n\n\n\n\n\n\n\n\n\nJoshua D.2,0 de 5 estrellas\nStrange fit\nRevisado en Reino Unido el 16 de febrero de 2019Tamaño: LColor: Gris (Grey Heather)Compra verificada\nI ordered a size up but found it still was a really small fit. The chest was spot on, however the sleeves almost made it look like a vest. I would definitely order perhaps 2 sizes up.The material is very light and clings to skin, unlike my other Tommy T-shirts.The neck is also not very tight at all.Not my favourite Tommy Product.\nLeer más\nA 8 personas les ha parecido esto útil\n\n            Útil\n\nEnviando comentario...Gracias por su comentario.Lo sentimos, no hemos podido registrar tu voto. Vuelva a intentarlo\n\nInformar de un abuso\nTraducir reseña a Español\n\n\n\n\njeffro 1,0 de 5 estrellas\nXL  no a medium size at best\nRevisado en Reino Unido el 12 de abril de 2020Tamaño: XLColor: Azul (Navy Blazer)Compra verificada\nI'm speechless this XL is more like a MThink carefully before you buyI now have to go through the hassle of returning..I took a photo of it against the backdrop of a normal XL must be be rejects no doubt last years may have been corre t size but these aren't8 days later since i posted still waiting for my refund.. avoid !!!\nLeer más\n\n\n\n\n\nA 2 personas les ha parecido esto útil\n\n            Útil\n\nEnviando comentario...Gracias por su comentario.Lo sentimos, no hemos podido registrar tu voto. Vuelva a intentarlo\n\nInformar de un abuso\nTraducir reseña a Español\n\n\n\n\nBobby1,0 de 5 estrellas\nFar too small\nRevisado en Reino Unido el 22 de marzo de 2019Tamaño: XLColor: Azul (Navy Blazer)Compra verificada\nI'm. A big lad not fat big and I bought xl it was like a medium. Sticking like hanging on for dear life.Not great quality either\nLeer más\nA 5 personas les ha parecido esto útil\n\n            Útil\n\nEnviando comentario...Gracias por su comentario.Lo sentimos, no hemos podido registrar tu voto. Vuelva a intentarlo\n\nInformar de un abuso\nTraducir reseña a Español\n\n\n\n\nCliente Amazon2,0 de 5 estrellas\nvestibilità!!!!\nRevisado en Italia el 12 de mayo de 2019Tamaño: XLColor: Gris (Grey Heather)Compra verificada\nnon riesco a capire se ho ricevuto una t-shirt fallata o è fatta proprio cosi!!!! praticamente bisogna avere le spalle di Rambo e la vita di Roberto Bolle!!!! il tessuto certo è ottimo,ma la vestibilità mi sembra molto discutibile!!!!\nLeer más\nA 18 personas les ha parecido esto útil\n\n            Útil\n\nEnviando comentario...Gracias por su comentario.Lo sentimos, no hemos podido registrar tu voto. Vuelva a intentarlo\n\nInformar de un abuso\nTraducir reseña a Español\n\n\n\n\nScarllette Tyler5,0 de 5 estrellas\nQuality value 100% authentic soft material better than expect\nRevisado en Reino Unido el 10 de abril de 2020Tamaño: XLColor: Azul (Navy Blazer)Compra verificada\nQUALITY T-shirt LOVE 💙😁IT 5★★★★★Value too so soft &amp; the price point wow i wasn't expecting it to be so nice &amp; as decent to be honest but its pleasantly surprised me cheers Amazon take all my money im addicted lol\nLeer más\nA una persona le ha parecido esto útil\n\n            Útil\n\nEnviando comentario...Gracias por su comentario.Lo sentimos, no hemos podido registrar tu voto. Vuelva a intentarlo\n\nInformar de un abuso\nTraducir reseña a EspañolCargar más reseñas internacionales\n\n\n\n\nIch weiß was5,0 de 5 estrellas\nso schön, dass wir gleich nachbestellt haben\nRevisado en Alemania el 20 de junio de 2019Tamaño: SColor: Gris (Grey Heather)Compra verificada\nDas erste bestellte Hilfiger T-Shirt hat uns so gut gefallen, dass wir gleich noch weitere auch in anderer Farbe nachbestellt haben. Sie passen mir, wie auch unseren Teenagern perfekt. Angenehmer leichter Stoff, der auch sehr gut verarbeitet wurde. Der Hilfiger Schriftzug ist bei dem grauen T-Shirt etwas feiner (dünner gummiert) wie bei dem blauen. Wegen dem Schriftzug nur auf links und bis 30° waschen.Schicke T-Shirts in denen man sich wohlfühlen kann.Wir sind mit dem Kauf und der Qualität sehr zufrieden.\nLeer más\n\n\n\n\n\nA 15 personas les ha parecido esto útil\n\n            Útil\n\nEnviando comentario...Gracias por su comentario.Lo sentimos, no hemos podido registrar tu voto. Vuelva a intentarlo\n\nInformar de un abuso\nTraducir reseña a Español\n\n\n\n\nBaz1,0 de 5 estrellas\nCheap tshirt with a logo\nRevisado en Reino Unido el 28 de octubre de 2019Tamaño: MColor: Azul (Navy Blazer)Compra verificada\nIt's a cheap couple of pounds tshirt with a logo on the front. Not even an attempt to use a quality tshirt. Your paying for the name. Pound shop tshirt. Thin and see through if held to the light. Buy it if you have plenty money to throw away.\nLeer más\nA una persona le ha parecido esto útil\n\n            Útil\n\nEnviando comentario...Gracias por su comentario.Lo sentimos, no hemos podido registrar tu voto. Vuelva a intentarlo\n\nInformar de un abuso\nTraducir reseña a Español\n\n\n\n\nmichael stephenson4,0 de 5 estrellas\nlovely shirt\nRevisado en Reino Unido el 10 de septiembre de 2019Tamaño: XLColor: Gris (Grey Heather)Compra verificada\nnice but too tight. strange how same alleged sizes are all different. have to wait till Im slimmer for it to fit\nLeer más\nA una persona le ha parecido esto útil\n\n            Útil\n\nEnviando comentario...Gracias por su comentario.Lo sentimos, no hemos podido registrar tu voto. Vuelva a intentarlo\n\nInformar de un abuso\nTraducir reseña a Español\n\n\n\n\nDuarte C.5,0 de 5 estrellas\nFits really well\nRevisado en Reino Unido el 20 de abril de 2020Tamaño: LColor: Azul (Navy Blazer)Compra verificada\nI was a bit sceptical because of all the reviews that say it's too small but ended up ordering my usual size anyway.In my case, the t-shirt fits really well just like all my other ones.\nLeer más\n\n\n            Útil\n\nEnviando comentario...Gracias por su comentario.Lo sentimos, no hemos podido registrar tu voto. Vuelva a intentarlo\n\nInformar de un abuso\nTraducir reseña a Español\n\n\n\n\nSaffy4,0 de 5 estrellas\nNice tee shirt\nRevisado en Reino Unido el 4 de mayo de 2020Tamaño: MColor: Azul (Navy Blazer)Compra verificada\nThis is a nice t-shirt and the material was pretty good. The size was slightly smaller than expected for a medium if you prefer to have a tad loose fit.\nLeer más\n\n\n            Útil\n\nEnviando comentario...Gracias por su comentario.Lo sentimos, no hemos podido registrar tu voto. Vuelva a intentarlo\n\nInformar de un abuso\nTraducir reseña a EspañolCargar más reseñas internacionales\n\n\n\n\nrozita russell5,0 de 5 estrellas\nA bargain and good quality\nRevisado en Reino Unido el 27 de septiembre de 2019Tamaño: MColor: Azul (Navy Blazer)Compra verificada\nThis shirt arrived early which is always nice. Great quality and fit. I couldn't believe the price as 1/2 the price of local shops.My son loves it and i am ordering more in different colours\nLeer más\n\n\n            Útil\n\nEnviando comentario...Gracias por su comentario.Lo sentimos, no hemos podido registrar tu voto. Vuelva a intentarlo\n\nInformar de un abuso\nTraducir reseña a Español\n\n\n\n\nN Thammanna1,0 de 5 estrellas\nStupidly small\nRevisado en Reino Unido el 23 de abril de 2020Tamaño: XLColor: Azul (Navy Blazer)Compra verificada\nI agree with the last few reviews. The XL fits like a medium. The sleeves are tight. The material is thin. I won’t be wearing this in public\nLeer más\n\n\n            Útil\n\nEnviando comentario...Gracias por su comentario.Lo sentimos, no hemos podido registrar tu voto. Vuelva a intentarlo\n\nInformar de un abuso\nTraducir reseña a Español\n\n\n\n\nMaester F1,0 de 5 estrellas\nPoor. Wouldn’t recommend.\nRevisado en Reino Unido el 26 de abril de 2020Tamaño: LColor: Azul (Navy Blazer)Compra verificada\nI assume this is genuine but quality is basic and sizing is completely wrong. Bought a Large and it’s more like a small/medium.\nLeer más\n\n\n            Útil\n\nEnviando comentario...Gracias por su comentario.Lo sentimos, no hemos podido registrar tu voto. Vuelva a intentarlo\n\nInformar de un abuso\nTraducir reseña a Español\n\n\n\n\nAjess5,0 de 5 estrellas\nGreat T-shirt\nRevisado en Reino Unido el 9 de junio de 2019Tamaño: LColor: Blanco (White)Compra verificada\nGreat Tommy Hilfiger t shirt. It sits really well and you can feel the quality. It was delivered fast and had already become one of my favourite T-shirt’s\nLeer más\n\n\n            Útil\n\nEnviando comentario...Gracias por su comentario.Lo sentimos, no hemos podido registrar tu voto. Vuelva a intentarlo\n\nInformar de un abuso\nTraducir reseña a Español\n\n\n\n\nMS EMMA J BARNES5,0 de 5 estrellas\nSize up x2\nRevisado en Reino Unido el 30 de abril de 2020Tamaño: LColor: Azul (Navy Blazer)Compra verificada\nI brought a large which equates to a small really for my 12 year old. He loves it the t-shirt is good quality I only paid £7.99 sonot complaining.\nLeer más\n\n\n            Útil\n\nEnviando comentario...Gracias por su comentario.Lo sentimos, no hemos podido registrar tu voto. Vuelva a intentarlo\n\nInformar de un abuso\nTraducir reseña a EspañolHas leído las mejores opiniones internacionalesVer todas las reseñas de España\n\n\n\n\n\n\n\n\n\n\n\n\n\n\n\n\n\n\n\n\n\n\n\n\n\n Amazon Prime: envíos rápidos, GRATIS e ilimitados y mucho más \n Los clientes de Amazon Prime disfrutan de Envío en 1 día GRATIS en dos millones de productos y Envío en 2 o 3 días en millones de productos más, Acceso a series y películas en Prime Video, incluyendo las series Amazon Originals, más de 2 millones de canciones y cientos de listas de reproducción sin publicidad con Prime Music, cientos de eBooks en Prime Reading, Acceso Prioritario a las Ofertas flash y Almacenamiento de fotos gratis e ilimitado en Amazon Drive. \n\n      &gt;\n      Más información\n\n\n\n\n\n\n\n\n\n\nHay un problema para cargar este menú.\nMás información sobre Amazon Prime.\n\n\n\n\n\n\n\n\n\n\n\n\n\n\n\nVolver arriba\nConócenosTrabajar en AmazonSobre Amazon.esSostenibilidadGana dinero con nosotrosVender en AmazonVender como Amazon AcceleratorVender en Amazon BusinessVende en Amazon HandmadePrograma de afiliadosLogística de AmazonPromociona tus productosPublica tu libro en KindleAmazon PayMétodos de pago AmazonMétodos de pagoConversor de divisas de AmazonCheques RegaloRecarga onlineRecarga en tienda¿Necesitas ayuda?Amazon y COVID-19Localizar o gestionar comprasTarifas y políticas de envíoAmazon PrimeDevolver o reemplazar productosReciclajeGestionar contenido y dispositivosApp AmazonAmazon AssistantAtención al ClienteIVA sobre los bienes\n\n\nAustraliaAlemaniaBrasilCanadáChinaEstados UnidosFranciaIndiaItaliaJapónMéxicoPaíses BajosEmiratos Árabes UnidosReino UnidoSingapurTurquía\n\nAmazon Music Transmite millones de canciones\n\nIberLibro Libros, arte &amp; artículos de colección\n\nAmazon Web Services Servicios Cloud Computing de Amazon\n\nBook Depository Libros con entrega gratis en todo el mundo\n\nKindle Direct Publishing Publica tu libro en papel y digital de manera independiente\n\n \n\nPrime Now Entrega en 1 hora En miles de productos\n\nProductos Reacondicionados Precios bajos en productos revisados por Amazon\n\nShopbop Marcas de moda de diseño \n\nAmazon Business Servicio para clientes de empresa\n\nAmazon Second Chance Donar, intercambiar, dar una segunda vida\n\n\nCondiciones de Uso y VentaAviso de privacidadÁrea legalCookiesPublicidad basada en intereses© 1996-2020, Amazon.com, Inc. o afiliados. Todos los derechos reservados.\n\n"
    }
   ],
   "source": [
    "# Create a BeautifulSoup object\n",
    "soup = BeautifulSoup(page.text, 'html.parser')\n",
    "amazonproduct = show_html(soup.text)\n",
    "amazonproduct"
   ]
  },
  {
   "cell_type": "code",
   "execution_count": 324,
   "metadata": {},
   "outputs": [],
   "source": [
    "def show_html(html_str):\n",
    "    print(BeautifulSoup(str(html_str), \"html.parser\"). prettify())"
   ]
  },
  {
   "cell_type": "code",
   "execution_count": 325,
   "metadata": {
    "tags": []
   },
   "outputs": [
    {
     "output_type": "stream",
     "name": "stdout",
     "text": "None\n\n"
    }
   ],
   "source": [
    "# Pull all text from the BodyText div\n",
    "amazonproduct = soup.find(class_='BodyText')\n",
    "show_html(str(amazonproduct))"
   ]
  },
  {
   "cell_type": "code",
   "execution_count": 326,
   "metadata": {},
   "outputs": [
    {
     "output_type": "execute_result",
     "data": {
      "text/plain": "NoneType"
     },
     "metadata": {},
     "execution_count": 326
    }
   ],
   "source": [
    "type(amazonproduct)"
   ]
  },
  {
   "cell_type": "code",
   "execution_count": 335,
   "metadata": {},
   "outputs": [
    {
     "output_type": "execute_result",
     "data": {
      "text/plain": "k=\"expand-collapse-read-more-less\" href=\"javascript:void(0)\"><i class=\"a-icon a-icon-extender-expand\"></i><span class=\"a-expander-prompt\">Leer más</span></a>,\n <a class=\"a-size-base a-link-normal a-color-secondary report-abuse-link a-text-normal\" href=\"/hz/reviews-render/report-abuse?voteDomain=Reviews&amp;ref=cm_cr_dp_d_freport&amp;csrfT=gsJwNF5nN5c%2BDLlhphQl%2FDZeC6AI67EPu7Hw2PQAAAABAAAAAF8cdFpyYXcAAAAA%2B4kUEk%2F7iMGR3xPcX6iU&amp;entityId=R3D92DGONVUQU2&amp;sessionId=000-0000000-0000000\">Informar de un abuso</a>,\n <a class=\"a-size-base a-link-normal\" data-hook=\"cr-translate-this-review-link\" href=\"#customerReviews\">Traducir reseña a Español</a>,\n <a class=\"a-declarative\" data-a-expander-toggle='{\"allowLinkDefault\":true, \"expand_prompt\":\"Leer más\", \"collapse_prompt\":\"Leer menos\"}' data-action=\"a-expander-toggle\" data-hook=\"expand-collapse-read-more-less\" href=\"javascript:void(0)\"><i class=\"a-icon a-icon-extender-expand\"></i><span class=\"a-expander-prompt\">Leer más</span></a>,\n <a class=\"a-size-base a-link-normal a-color-secondary report-abuse-link a-text-normal\" href=\"/hz/reviews-render/report-abuse?voteDomain=Reviews&amp;ref=cm_cr_dp_d_freport&amp;csrfT=gpbQUxr04SWLYz%2FXH%2B39xZlas2AKRSVw26O3%2B7oAAAABAAAAAF8cdFpyYXcAAAAA%2B4kUEk%2F7iMGR3xPcX6iU&amp;entityId=R3VFRNP34HWQ5B&amp;sessionId=000-0000000-0000000\">Informar de un abuso</a>,\n <a class=\"a-size-base a-link-normal\" data-hook=\"cr-translate-this-review-link\" href=\"#customerReviews\">Traducir reseña a Español</a>,\n <a class=\"a-declarative\" data-a-expander-toggle='{\"allowLinkDefault\":true, \"expand_prompt\":\"Leer más\", \"collapse_prompt\":\"Leer menos\"}' data-action=\"a-expander-toggle\" data-hook=\"expand-collapse-read-more-less\" href=\"javascript:void(0)\"><i class=\"a-icon a-icon-extender-expand\"></i><span class=\"a-expander-prompt\">Leer más</span></a>,\n <a class=\"a-size-base a-link-normal a-color-secondary report-abuse-link a-text-normal\" href=\"/hz/reviews-render/report-abuse?voteDomain=Reviews&amp;ref=cm_cr_dp_d_freport&amp;csrfT=gixzghrUdfrPiuBT30Dj7dXfGmMyRUsjkSBFeigAAAABAAAAAF8cdFpyYXcAAAAA%2B4kUEk%2F7iMGR3xPcX6iU&amp;entityId=R32EYCIIBBIR1K&amp;sessionId=000-0000000-0000000\">Informar de un abuso</a>,\n <a class=\"a-size-base a-link-normal\" data-hook=\"cr-translate-this-review-link\" href=\"#customerReviews\">Traducir reseña a Español</a>,\n <a class=\"a-declarative\" data-a-expander-toggle='{\"allowLinkDefault\":true, \"expand_prompt\":\"Leer más\", \"collapse_prompt\":\"Leer menos\"}' data-action=\"a-expander-toggle\" data-hook=\"expand-collapse-read-more-less\" href=\"javascript:void(0)\"><i class=\"a-icon a-icon-extender-expand\"></i><span class=\"a-expander-prompt\">Leer más</span></a>,\n <a class=\"a-size-base a-link-normal a-color-secondary report-abuse-link a-text-normal\" href=\"/hz/reviews-render/report-abuse?voteDomain=Reviews&amp;ref=cm_cr_dp_d_freport&amp;csrfT=ggjYtDbHwQTslkJfzH2LZol0SHJeLzKt96hfFHcAAAABAAAAAF8cdFpyYXcAAAAA%2B4kUEk%2F7iMGR3xPcX6iU&amp;entityId=RTEJ05I50SX4&amp;sessionId=000-0000000-0000000\">Informar de un abuso</a>,\n <a class=\"a-size-base a-link-normal\" data-hook=\"cr-translate-this-review-link\" href=\"#customerReviews\">Traducir reseña a Español</a>,\n <a class=\"a-declarative\" data-a-expander-toggle='{\"allowLinkDefault\":true, \"expand_prompt\":\"Leer más\", \"collapse_prompt\":\"Leer menos\"}' data-action=\"a-expander-toggle\" data-hook=\"expand-collapse-read-more-less\" href=\"javascript:void(0)\"><i class=\"a-icon a-icon-extender-expand\"></i><span class=\"a-expander-prompt\">Leer más</span></a>,\n <a class=\"a-size-base a-link-normal a-color-secondary report-abuse-link a-text-normal\" href=\"/hz/reviews-render/report-abuse?voteDomain=Reviews&amp;ref=cm_cr_dp_d_freport&amp;csrfT=gsu4XKv6I2s724Uik4FHlmcQuuOn8AogNz%2BjemcAAAABAAAAAF8cdFpyYXcAAAAA%2B4kUEk%2F7iMGR3xPcX6iU&amp;entityId=R1SFX9ZIG1P4OU&amp;sessionId=000-0000000-0000000\">Informar de un abuso</a>,\n <a class=\"a-size-base a-link-normal\" data-hook=\"cr-translate-this-review-link\" href=\"#customerReviews\">Traducir reseña a Español</a>,\n <a class=\"a-declarative\" data-a-expander-toggle='{\"allowLinkDefault\":true, \"expand_prompt\":\"Leer más\", \"collapse_prompt\":\"Leer menos\"}' data-action=\"a-expander-toggle\" data-hook=\"expand-collapse-read-more-less\" href=\"javascript:void(0)\"><i class=\"a-icon a-icon-extender-expand\"></i><span class=\"a-expander-prompt\">Leer más</span></a>,\n <a class=\"a-size-base a-link-normal a-color-secondary report-abuse-link a-text-normal\" href=\"/hz/reviews-render/report-abuse?voteDomain=Reviews&amp;ref=cm_cr_dp_d_freport&amp;csrfT=ggFV3OvBmNmFlwencPhZVTC5NUNIx2gghb3SyjEAAAABAAAAAF8cdFpyYXcAAAAA%2B4kUEk%2F7iMGR3xPcX6iU&amp;entityId=R1HTFTGQ9AG7VO&amp;sessionId=000-0000000-0000000\">Informar de un abuso</a>,\n <a class=\"a-size-base a-link-normal\" data-hook=\"cr-translate-this-review-link\" href=\"#customerReviews\">Traducir reseña a Español</a>,\n <a class=\"a-declarative\" data-a-expander-toggle='{\"allowLinkDefault\":true, \"expand_prompt\":\"Leer más\", \"collapse_prompt\":\"Leer menos\"}' data-action=\"a-expander-toggle\" data-hook=\"expand-collapse-read-more-less\" href=\"javascript:void(0)\"><i class=\"a-icon a-icon-extender-expand\"></i><span class=\"a-expander-prompt\">Leer más</span></a>,\n <a class=\"a-size-base a-link-normal a-color-secondary report-abuse-link a-text-normal\" href=\"/hz/reviews-render/report-abuse?voteDomain=Reviews&amp;ref=cm_cr_dp_d_freport&amp;csrfT=guKINB8qqJfmOKWpb%2Fdqexe%2FgD%2F6b%2BNCX9xZbB8AAAABAAAAAF8cdFpyYXcAAAAA%2B4kUEk%2F7iMGR3xPcX6iU&amp;entityId=R2386LAW7RWMPG&amp;sessionId=000-0000000-0000000\">Informar de un abuso</a>,\n <a class=\"a-size-base a-link-normal\" data-hook=\"cr-translate-this-review-link\" href=\"#customerReviews\">Traducir reseña a Español</a>,\n <a class=\"a-declarative\" data-a-expander-toggle='{\"allowLinkDefault\":true, \"expand_prompt\":\"Leer más\", \"collapse_prompt\":\"Leer menos\"}' data-action=\"a-expander-toggle\" data-hook=\"expand-collapse-read-more-less\" href=\"javascript:void(0)\"><i class=\"a-icon a-icon-extender-expand\"></i><span class=\"a-expander-prompt\">Leer más</span></a>,\n <a class=\"a-size-base a-link-normal a-color-secondary report-abuse-link a-text-normal\" href=\"/hz/reviews-render/report-abuse?voteDomain=Reviews&amp;ref=cm_cr_dp_d_freport&amp;csrfT=gqhAon8%2FhXovGY8C7jPHk34cdlLsEQQOQy2uxnkAAAABAAAAAF8cdFpyYXcAAAAA%2B4kUEk%2F7iMGR3xPcX6iU&amp;entityId=R3ANVRCC5CYQHE&amp;sessionId=000-0000000-0000000\">Informar de un abuso</a>,\n <a class=\"a-size-base a-link-normal\" data-hook=\"cr-translate-this-review-link\" href=\"#customerReviews\">Traducir reseña a Español</a>,\n <a class=\"a-declarative\" data-a-expander-toggle='{\"allowLinkDefault\":true, \"expand_prompt\":\"Leer más\", \"collapse_prompt\":\"Leer menos\"}' data-action=\"a-expander-toggle\" data-hook=\"expand-collapse-read-more-less\" href=\"javascript:void(0)\"><i class=\"a-icon a-icon-extender-expand\"></i><span class=\"a-expander-prompt\">Leer más</span></a>,\n <a class=\"a-size-base a-link-normal a-color-secondary report-abuse-link a-text-normal\" href=\"/hz/reviews-render/report-abuse?voteDomain=Reviews&amp;ref=cm_cr_dp_d_freport&amp;csrfT=glSLHFK69KBykrCrRfACSY%2B531YsoHoRjIXkpSwAAAABAAAAAF8cdFpyYXcAAAAA%2B4kUEk%2F7iMGR3xPcX6iU&amp;entityId=R36IVD0H0BX162&amp;sessionId=000-0000000-0000000\">Informar de un abuso</a>,\n <a class=\"a-size-base a-link-normal\" data-hook=\"cr-translate-this-review-link\" href=\"#customerReviews\">Traducir reseña a Español</a>,\n <a class=\"a-declarative\" data-a-expander-toggle='{\"allowLinkDefault\":true, \"expand_prompt\":\"Leer más\", \"collapse_prompt\":\"Leer menos\"}' data-action=\"a-expander-toggle\" data-hook=\"expand-collapse-read-more-less\" href=\"javascript:void(0)\"><i class=\"a-icon a-icon-extender-expand\"></i><span class=\"a-expander-prompt\">Leer más</span></a>,\n <a class=\"a-size-base a-link-normal a-color-secondary report-abuse-link a-text-normal\" href=\"/hz/reviews-render/report-abuse?voteDomain=Reviews&amp;ref=cm_cr_dp_d_freport&amp;csrfT=gmiHN7Q53TsDWaeBYCgVr7WnWHobOLNzzt2ycKAAAAABAAAAAF8cdFpyYXcAAAAA%2B4kUEk%2F7iMGR3xPcX6iU&amp;entityId=R3S0RZL26AHKUN&amp;sessionId=000-0000000-0000000\">Informar de un abuso</a>,\n <a class=\"a-size-base a-link-normal\" data-hook=\"cr-translate-this-review-link\" href=\"#customerReviews\">Traducir reseña a Español</a>,\n <a class=\"a-declarative\" data-a-expander-toggle='{\"allowLinkDefault\":true, \"expand_prompt\":\"Leer más\", \"collapse_prompt\":\"Leer menos\"}' data-action=\"a-expander-toggle\" data-hook=\"expand-collapse-read-more-less\" href=\"javascript:void(0)\"><i class=\"a-icon a-icon-extender-expand\"></i><span class=\"a-expander-prompt\">Leer más</span></a>,\n <a class=\"a-size-base a-link-normal a-color-secondary report-abuse-link a-text-normal\" href=\"/hz/reviews-render/report-abuse?voteDomain=Reviews&amp;ref=cm_cr_dp_d_freport&amp;csrfT=gqarT8wVVK2j0Apnx9QA0uaDVRmUUgxYidvelXcAAAABAAAAAF8cdFpyYXcAAAAA%2B4kUEk%2F7iMGR3xPcX6iU&amp;entityId=R10L9BL5VOSRBI&amp;sessionId=000-0000000-0000000\">Informar de un abuso</a>,\n <a class=\"a-size-base a-link-normal\" data-hook=\"cr-translate-this-review-link\" href=\"#customerReviews\">Traducir reseña a Español</a>,\n <a class=\"a-declarative\" data-a-expander-toggle='{\"allowLinkDefault\":true, \"expand_prompt\":\"Leer más\", \"collapse_prompt\":\"Leer menos\"}' data-action=\"a-expander-toggle\" data-hook=\"expand-collapse-read-more-less\" href=\"javascript:void(0)\"><i class=\"a-icon a-icon-extender-expand\"></i><span class=\"a-expander-prompt\">Leer más</span></a>,\n <a class=\"a-size-base a-link-normal a-color-secondary report-abuse-link a-text-normal\" href=\"/hz/reviews-render/report-abuse?voteDomain=Reviews&amp;ref=cm_cr_dp_d_freport&amp;csrfT=gtSUH%2Fu525JxUe%2BpEzu2K8FNsdDCOyoPH598bBoAAAABAAAAAF8cdFpyYXcAAAAA%2B4kUEk%2F7iMGR3xPcX6iU&amp;entityId=R21T59RS9MY7FX&amp;sessionId=000-0000000-0000000\">Informar de un abuso</a>,\n <a class=\"a-size-base a-link-normal\" data-hook=\"cr-translate-this-review-link\" href=\"#customerReviews\">Traducir reseña a Español</a>,\n <a class=\"a-declarative\" data-a-expander-toggle='{\"allowLinkDefault\":true, \"expand_prompt\":\"Leer más\", \"collapse_prompt\":\"Leer menos\"}' data-action=\"a-expander-toggle\" data-hook=\"expand-collapse-read-more-less\" href=\"javascript:void(0)\"><i class=\"a-icon a-icon-extender-expand\"></i><span class=\"a-expander-prompt\">Leer más</span></a>,\n <a class=\"a-size-base a-link-normal a-color-secondary report-abuse-link a-text-normal\" href=\"/hz/reviews-render/report-abuse?voteDomain=Reviews&amp;ref=cm_cr_dp_d_freport&amp;csrfT=gpf8WaZmnoCyvhc%2BmogTVmdRdsto85oyRqj2IBMAAAABAAAAAF8cdFpyYXcAAAAA%2B4kUEk%2F7iMGR3xPcX6iU&amp;entityId=R1C5D272FSS9C5&amp;sessionId=000-0000000-0000000\">Informar de un abuso</a>,\n <a class=\"a-size-base a-link-normal\" data-hook=\"cr-translate-this-review-link\" href=\"#customerReviews\">Traducir reseña a Español</a>,\n <a class=\"a-declarative\" data-a-expander-toggle='{\"allowLinkDefault\":true, \"expand_prompt\":\"Leer más\", \"collapse_prompt\":\"Leer menos\"}' data-action=\"a-expander-toggle\" data-hook=\"expand-collapse-read-more-less\" href=\"javascript:void(0)\"><i class=\"a-icon a-icon-extender-expand\"></i><span class=\"a-expander-prompt\">Leer más</span></a>,\n <a class=\"a-size-base a-link-normal a-color-secondary report-abuse-link a-text-normal\" href=\"/hz/reviews-render/report-abuse?voteDomain=Reviews&amp;ref=cm_cr_dp_d_freport&amp;csrfT=gkF20LoNh%2B4hID980wkD0yGZ3KOOdykNDUMD6ZwAAAABAAAAAF8cdFpyYXcAAAAA%2B4kUEk%2F7iMGR3xPcX6iU&amp;entityId=R9G4CQC6YCIV3&amp;sessionId=000-0000000-0000000\">Informar de un abuso</a>,\n <a class=\"a-size-base a-link-normal\" data-hook=\"cr-translate-this-review-link\" href=\"#customerReviews\">Traducir reseña a Español</a>,\n <a class=\"a-declarative\" data-a-expander-toggle='{\"allowLinkDefault\":true, \"expand_prompt\":\"Leer más\", \"collapse_prompt\":\"Leer menos\"}' data-action=\"a-expander-toggle\" data-hook=\"expand-collapse-read-more-less\" href=\"javascript:void(0)\"><i class=\"a-icon a-icon-extender-expand\"></i><span class=\"a-expander-prompt\">Leer más</span></a>,\n <a class=\"a-size-base a-link-normal a-color-secondary report-abuse-link a-text-normal\" href=\"/hz/reviews-render/report-abuse?voteDomain=Reviews&amp;ref=cm_cr_dp_d_freport&amp;csrfT=ghBBCigXiCEtv1qwRCofKKq6hEKorAsmSLwR30MAAAABAAAAAF8cdFpyYXcAAAAA%2B4kUEk%2F7iMGR3xPcX6iU&amp;entityId=R26JBPYVG2ZH5N&amp;sessionId=000-0000000-0000000\">Informar de un abuso</a>,\n <a class=\"a-size-base a-link-normal\" data-hook=\"cr-translate-this-review-link\" href=\"#customerReviews\">Traducir reseña a Español</a>,\n <a class=\"a-size-small a-link-emphasis a-text-bold\" data-hook=\"see-all-reviews-link-foot\" href=\"/Tommy-Hilfiger-UM0UM00054-Camiseta-Hombre/product-reviews/B01N4M8EZI?reviewerType=all_reviews\">Ver todas las reseñas de España</a>,\n <a class=\"nav-npt-a\" href=\"/prime\">Más información</a>,\n <a class=\"nav_a\" href=\"/gp/prime\">Más información sobre Amazon Prime.</a>,\n <a href=\"#nav-top\" id=\"navBackToTop\"><div class=\"navFooterBackToTop\"><span class=\"navFooterBackToTopText\">Volver arriba</span></div></a>,\n <a class=\"nav_a\" href=\"/b?ie=UTF8&amp;node=923374031&amp;ref_=footer_gw_m_b_careers\">Trabajar en Amazon</a>,\n <a class=\"nav_a\" href=\"http://www.amazon.es/sobreamazon\">Sobre Amazon.es</a>,\n <a class=\"nav_a\" href=\"https://sostenibilidad.aboutamazon.es/?utm_source=gateway&amp;utm_medium=footer&amp;ref_=susty_footer\">Sostenibilidad</a>,\n <a class=\"nav_a\" href=\"https://services.amazon.es/servicios/vender-por-internet/como-funciona-pro.html?ref=azessoafoo&amp;ld=AZESSOAFooter\">Vender en Amazon</a>,\n <a class=\"nav_a\" href=\"https://accelerator.amazon.es/?ref_=map_1_b2b_GW_FT\">Vender como Amazon Accelerator</a>,\n <a class=\"nav_a\" href=\"https://services.amazon.es/servicios/llegue-a-los-clientes-profesionales/caractersticas-y-ventajas.html?ld=AZESB2BRetailFooter\">Vender en Amazon Business</a>,\n <a class=\"nav_a\" href=\"https://services.amazon.es/handmade.htm?ref=azessoafoo&amp;ld=AZESHNDFooter\">Vende en Amazon Handmade</a>,\n <a class=\"nav_a\" href=\"https://afiliados.amazon.es/\">Programa de afiliados</a>,\n <a class=\"nav_a\" href=\"https://services.amazon.es/servicios/logistica-de-amazon/funciones-y-ventajas/?ld=AZESFBAFooter\">Logística de Amazon</a>,\n <a class=\"nav_a\" href=\"https://advertising.amazon.es/products-self-serve?ref_=ext_amzn_ftr\">Promociona tus productos</a>,\n <a class=\"nav_a\" href=\"https://kdp.amazon.com/?language=es_ES\">Publica tu libro en Kindle</a>,\n <a class=\"nav_a\" href=\"https://pay.amazon.com/es?ld=AWREESAPAFooter\">Amazon Pay</a>,\n <a class=\"nav_a\" href=\"/gp/help/customer/display.html?ie=UTF8&amp;nodeId=201262600&amp;ref_=footer_payment\">Métodos de pago</a>,\n <a class=\"nav_a\" href=\"/gp/help/customer/display.html?ie=UTF8&amp;nodeId=201239250&amp;ref_=footer_tfx\">Conversor de divisas de Amazon</a>,\n <a class=\"nav_a\" href=\"/gp/gc?ie=UTF8&amp;ref_=footer_giftcards\">Cheques Regalo</a>,\n <a class=\"nav_a\" href=\"/gp/gc/create?ie=UTF8&amp;ref_=footer_topup_es\">Recarga online</a>,\n <a class=\"nav_a\" href=\"/b?ie=UTF8&amp;node=15417070031&amp;ref_=footer_purchase_code\">Recarga en tienda</a>,\n <a class=\"nav_a\" href=\"/gp/help/customer/display.html?ie=UTF8&amp;nodeId=GDFU3JS5AL6SYHRD&amp;ref_=footer_covid\">Amazon y COVID-19</a>,\n <a class=\"nav_a\" href=\"/gp/css/order-history?ie=UTF8&amp;ref_=footer_hp_ss_comp_tmp\">Localizar o gestionar compras</a>,\n <a class=\"nav_a\" href=\"/gp/help/customer/display.html?ie=UTF8&amp;nodeId=200522630&amp;ref_=footer_shiprates\">Tarifas y políticas de envío</a>,\n <a class=\"nav_a\" href=\"/gp/prime?ie=UTF8&amp;ref_=footer_prime\">Amazon Prime</a>,\n <a class=\"nav_a\" href=\"/gp/css/returns/homepage.html?ie=UTF8&amp;ref_=footer_hy_f_4\">Devolver o reemplazar productos</a>,\n <a class=\"nav_a\" href=\"/gp/help/customer/display.html?ie=UTF8&amp;nodeId=201819410&amp;ref_=footer_disposal\">Reciclaje</a>,\n <a class=\"nav_a\" href=\"/gp/digital/fiona/manage?ie=UTF8&amp;ref_=footer_myk\">Gestionar contenido y dispositivos</a>,\n <a class=\"nav_a\" href=\"/b?ie=UTF8&amp;node=5061838031&amp;ref_=footer_mobapp\">App Amazon</a>,\n <a class=\"nav_a\" href=\"/gp/BIT/ref=footer_bit_v2_e0005?bitCampaignCode=e0005\">Amazon Assistant</a>,\n <a class=\"nav_a\" href=\"/gp/help/customer/display.html?ie=UTF8&amp;nodeId=200507590&amp;ref_=footer_gw_m_b_cs\">Atención al Cliente</a>,\n <a class=\"nav_a\" href=\"/gp/help/customer/display.html?ie=UTF8&amp;nodeId=201239260&amp;ref_=footer_vat\">IVA sobre los bienes</a>,\n <a href=\"/ref=footer_logo\"><div class=\"nav-logo-base nav-sprite\"></div></a>,\n <a class=\"nav_a\" href=\"https://www.amazon.com.au/ref=footer_au\">Australia</a>,\n <a class=\"nav_a\" href=\"https://www.amazon.de/ref=footer_de\">Alemania</a>,\n <a class=\"nav_a\" href=\"https://www.amazon.com.br/ref=footer_br\">Brasil</a>,\n <a class=\"nav_a\" href=\"https://www.amazon.ca/ref=footer_ca\">Canadá</a>,\n <a class=\"nav_a\" href=\"https://www.amazon.cn/ref=footer_cn\">China</a>,\n <a class=\"nav_a\" href=\"https://www.amazon.com/ref=footer_us\">Estados Unidos</a>,\n <a class=\"nav_a\" href=\"https://www.amazon.fr/ref=footer_fr\">Francia</a>,\n <a class=\"nav_a\" href=\"https://www.amazon.in/ref=footer_in\">India</a>,\n <a class=\"nav_a\" href=\"https://www.amazon.it/ref=footer_it\">Italia</a>,\n <a class=\"nav_a\" href=\"https://www.amazon.co.jp/ref=footer_jp\">Japón</a>,\n <a class=\"nav_a\" href=\"https://www.amazon.com.mx/ref=footer_mx\">México</a>,\n <a class=\"nav_a\" href=\"https://www.amazon.nl/ref=footer_nl\">Países Bajos</a>,\n <a class=\"nav_a\" href=\"https://www.amazon.ae/ref=footer_ae\">Emiratos Árabes Unidos</a>,\n <a class=\"nav_a\" href=\"https://www.amazon.co.uk/ref=footer_uk\">Reino Unido</a>,\n <a class=\"nav_a\" href=\"https://www.amazon.sg/ref=footer_sg\">Singapur</a>,\n <a class=\"nav_a\" href=\"https://www.amazon.com.tr/ref=footer_tr\">Turquía</a>,\n <a class=\"nav_a\" href=\"https://music.amazon.es/?ref=dm_aff_amz_es\">Amazon Music<br/> <span class=\"navFooterDescText\">Transmite millones<br/> de canciones</span></a>,\n <a class=\"nav_a\" href=\"https://www.iberlibro.com/\">IberLibro<br/> <span class=\"navFooterDescText\">Libros, arte<br/> &amp; artículos de colección</span></a>,\n <a class=\"nav_a\" href=\"https://aws.amazon.com/es/?sc_channel=EL&amp;sc_campaign=ES_amazonfooter\">Amazon Web Services<br/> <span class=\"navFooterDescText\">Servicios Cloud Computing<br/> de Amazon</span></a>,\n <a class=\"nav_a\" href=\"https://www.bookdepository.com/\">Book Depository<br/> <span class=\"navFooterDescText\">Libros con entrega gratis<br/> en todo el mundo</span></a>,\n <a class=\"nav_a\" href=\"https://kdp.amazon.com/?language=es_ES\">Kindle Direct Publishing<br/> <span class=\"navFooterDescText\">Publica tu libro en papel y digital<br/> de manera independiente</span></a>,\n <a class=\"nav_a\" href=\"https://primenow.amazon.es/?ref=HOUD12C322_0_GlobalFooter\">Prime Now<br/> <span class=\"navFooterDescText\">Entrega en 1 hora<br/> En miles de productos</span></a>,\n <a class=\"nav_a\" href=\"/Productos-Reacondicionados/b?ie=UTF8&amp;node=3582001031&amp;ref_=footer_wrhsdls\">Productos Reacondicionados<br/> <span class=\"navFooterDescText\">Precios bajos en productos revisados por Amazon</span></a>,\n <a class=\"nav_a\" href=\"https://www.shopbop.com/\">Shopbop<br/> <span class=\"navFooterDescText\">Marcas<br/> de moda de diseño </span></a>,\n <a class=\"nav_a\" href=\"/b?ie=UTF8&amp;node=14862331031&amp;ref_=nav_footer_business\">Amazon Business<br/> <span class=\"navFooterDescText\">Servicio para<br/> clientes de empresa</span></a>,\n <a class=\"nav_a\" href=\"/amazonsecondchance?_encoding=UTF8&amp;ref_=footer_asc\">Amazon Second Chance<br/> <span class=\"navFooterDescText\">Donar, intercambiar,<br/> dar una segunda vida</span></a>,\n <a class=\"nav_a\" href=\"/gp/help/customer/display.html?ie=UTF8&amp;nodeId=201909000&amp;ref_=footer_cou\">Condiciones de Uso y Venta</a>,\n <a class=\"nav_a\" href=\"/gp/help/customer/display.html?ie=UTF8&amp;nodeId=201909010&amp;ref_=footer_privacy\">Aviso de privacidad</a>,\n <a class=\"nav_a\" href=\"/gp/help/customer/display.html?ie=UTF8&amp;nodeId=201909250&amp;ref_=footer_legal_area\">Área legal</a>,\n <a class=\"nav_a\" href=\"/gp/help/customer/display.html?ie=UTF8&amp;nodeId=201890250&amp;ref_=footer_cookies_notice\">Cookies</a>,\n <a class=\"nav_a\" href=\"/gp/help/customer/display.html?ie=UTF8&amp;nodeId=201909150&amp;ref_=footer_Interest_Based_Ads_Notice\">Publicidad basada en intereses</a>]"
     },
     "metadata": {},
     "execution_count": 335
    }
   ],
   "source": [
    "# We get all \"a\" tags\n",
    "links = soup.findAll('a')\n",
    "links"
   ]
  },
  {
   "cell_type": "code",
   "execution_count": 340,
   "metadata": {},
   "outputs": [
    {
     "output_type": "execute_result",
     "data": {
      "text/plain": "[<title>Tommy Hilfiger Logo Camiseta de Cuello Redondo, Perfecta para El Tiempo Libre para Hombre: Amazon.es: Ropa y accesorios</title>]"
     },
     "metadata": {},
     "execution_count": 340
    }
   ],
   "source": [
    "item = soup.findAll('title')\n",
    "item"
   ]
  },
  {
   "cell_type": "code",
   "execution_count": 343,
   "metadata": {},
   "outputs": [
    {
     "output_type": "execute_result",
     "data": {
      "text/plain": "bs4.element.ResultSet"
     },
     "metadata": {},
     "execution_count": 343
    }
   ],
   "source": [
    "type(item)"
   ]
  },
  {
   "cell_type": "code",
   "execution_count": null,
   "metadata": {},
   "outputs": [],
   "source": [
    "# Result Set does not have the attribute content.\n",
    "# Create for loop to print out all items' names\n",
    "\n",
    "item_name = []\n",
    "for item_name in item:\n",
    "    item_name = item.contents[0]\n",
    "    print(item_name)"
   ]
  },
  {
   "cell_type": "code",
   "execution_count": 362,
   "metadata": {},
   "outputs": [
    {
     "output_type": "execute_result",
     "data": {
      "text/plain": "'[Tommy Hilfiger Logo Camiseta de Cuello Redondo, Perfecta para El Tiempo Libre para Hombre: Amazon.es: Ropa y accesorios]'"
     },
     "metadata": {},
     "execution_count": 362
    }
   ],
   "source": [
    "markup = '[<title>Tommy Hilfiger Logo Camiseta de Cuello Redondo, Perfecta para El Tiempo Libre para Hombre: Amazon.es: Ropa y accesorios</title>]'\n",
    "soup = BeautifulSoup(markup)\n",
    "\n",
    "soup.get_text()"
   ]
  },
  {
   "cell_type": "code",
   "execution_count": 364,
   "metadata": {},
   "outputs": [
    {
     "output_type": "execute_result",
     "data": {
      "text/plain": "'[Tommy Hilfiger Logo Camiseta de Cuello Redondo, Perfecta para El Tiempo Libre para Hombre: Amazon.es: Ropa y accesorios]'"
     },
     "metadata": {},
     "execution_count": 364
    }
   ],
   "source": [
    "item = soup.get_text()\n",
    "item"
   ]
  },
  {
   "cell_type": "code",
   "execution_count": null,
   "metadata": {},
   "outputs": [],
   "source": [
    "<tr id=\"priceblock_ourprice_row\">"
   ]
  },
  {
   "cell_type": "code",
   "execution_count": 380,
   "metadata": {},
   "outputs": [],
   "source": [
    "price = soup.get('id=price')\n",
    "price"
   ]
  },
  {
   "cell_type": "code",
   "execution_count": 375,
   "metadata": {},
   "outputs": [
    {
     "output_type": "execute_result",
     "data": {
      "text/plain": "[]"
     },
     "metadata": {},
     "execution_count": 375
    }
   ],
   "source": [
    "soup.select(\"div[class^=span]\")"
   ]
  },
  {
   "cell_type": "code",
   "execution_count": 374,
   "metadata": {},
   "outputs": [
    {
     "output_type": "execute_result",
     "data": {
      "text/plain": "[]"
     },
     "metadata": {},
     "execution_count": 374
    }
   ],
   "source": [
    "soup.find_all(\"div\", id=lambda value: value and value.startswith(\"<tr\"))"
   ]
  },
  {
   "cell_type": "code",
   "execution_count": 355,
   "metadata": {
    "tags": []
   },
   "outputs": [],
   "source": [
    "for tag in soup.find_all(re.compile('priceblock_ourprice_row')):\n",
    "    print(tag.name)"
   ]
  },
  {
   "cell_type": "code",
   "execution_count": 337,
   "metadata": {
    "tags": [
     "outputPrepend"
    ]
   },
   "outputs": [
    {
     "output_type": "stream",
     "name": "stdout",
     "text": "7P2837XN&pd_rd_r=cf3c060c-8222-4efc-be5b-7ccb18f2cca5&pd_rd_w=09Cll&pd_rd_wg=f8NW8&pf_rd_p=6bae50fa-2886-4dd3-870a-8774fa643fd1&pf_rd_r=BA46FA1FSRSQJZGY5PWW\n/Tommy-Hilfiger-Camiseta-Hombre-Blazer/dp/B0788DFRBW?_encoding=UTF8&pd_rd_i=B07P2837XN&pd_rd_r=cf3c060c-8222-4efc-be5b-7ccb18f2cca5&pd_rd_w=09Cll&pd_rd_wg=f8NW8&pf_rd_p=6bae50fa-2886-4dd3-870a-8774fa643fd1&pf_rd_r=BA46FA1FSRSQJZGY5PWW&psc=1\n/Levis-T-Shirt-3963600-Logo-Sport/dp/B07CXR85GZ?_encoding=UTF8&pd_rd_i=B073SZHGDT&pd_rd_r=cf3c060c-8222-4efc-be5b-7ccb18f2cca5&pd_rd_w=09Cll&pd_rd_wg=f8NW8&pf_rd_p=6bae50fa-2886-4dd3-870a-8774fa643fd1&pf_rd_r=BA46FA1FSRSQJZGY5PWW&psc=1\n/product-reviews/B073SZHGDT?ie=UTF8&pd_rd_i=B073SZHGDT&pd_rd_r=cf3c060c-8222-4efc-be5b-7ccb18f2cca5&pd_rd_w=09Cll&pd_rd_wg=f8NW8&pf_rd_p=6bae50fa-2886-4dd3-870a-8774fa643fd1&pf_rd_r=BA46FA1FSRSQJZGY5PWW\n/product-reviews/B073SZHGDT?ie=UTF8&pd_rd_i=B073SZHGDT&pd_rd_r=cf3c060c-8222-4efc-be5b-7ccb18f2cca5&pd_rd_w=09Cll&pd_rd_wg=f8NW8&pf_rd_p=6bae50fa-2886-4dd3-870a-8774fa643fd1&pf_rd_r=BA46FA1FSRSQJZGY5PWW\n/Levis-T-Shirt-3963600-Logo-Sport/dp/B07CXR85GZ?_encoding=UTF8&pd_rd_i=B073SZHGDT&pd_rd_r=cf3c060c-8222-4efc-be5b-7ccb18f2cca5&pd_rd_w=09Cll&pd_rd_wg=f8NW8&pf_rd_p=6bae50fa-2886-4dd3-870a-8774fa643fd1&pf_rd_r=BA46FA1FSRSQJZGY5PWW&psc=1\n/Levis-Housemark-Camiseta-Farallon-XX-Small/dp/B07TMHHTBD?_encoding=UTF8&pd_rd_i=B081VBCPPJ&pd_rd_r=cf3c060c-8222-4efc-be5b-7ccb18f2cca5&pd_rd_w=09Cll&pd_rd_wg=f8NW8&pf_rd_p=6bae50fa-2886-4dd3-870a-8774fa643fd1&pf_rd_r=BA46FA1FSRSQJZGY5PWW&psc=1\n/product-reviews/B081VBCPPJ?ie=UTF8&pd_rd_i=B081VBCPPJ&pd_rd_r=cf3c060c-8222-4efc-be5b-7ccb18f2cca5&pd_rd_w=09Cll&pd_rd_wg=f8NW8&pf_rd_p=6bae50fa-2886-4dd3-870a-8774fa643fd1&pf_rd_r=BA46FA1FSRSQJZGY5PWW\n/product-reviews/B081VBCPPJ?ie=UTF8&pd_rd_i=B081VBCPPJ&pd_rd_r=cf3c060c-8222-4efc-be5b-7ccb18f2cca5&pd_rd_w=09Cll&pd_rd_wg=f8NW8&pf_rd_p=6bae50fa-2886-4dd3-870a-8774fa643fd1&pf_rd_r=BA46FA1FSRSQJZGY5PWW\n/Levis-Housemark-Camiseta-Farallon-XX-Small/dp/B07TMHHTBD?_encoding=UTF8&pd_rd_i=B081VBCPPJ&pd_rd_r=cf3c060c-8222-4efc-be5b-7ccb18f2cca5&pd_rd_w=09Cll&pd_rd_wg=f8NW8&pf_rd_p=6bae50fa-2886-4dd3-870a-8774fa643fd1&pf_rd_r=BA46FA1FSRSQJZGY5PWW&psc=1\n#\njavascript:void(0)\n/dp/B01MUFG6K3/ref=emc_b_5_i\n/dp/B076CVTPCF/ref=emc_b_5_i\n/dp/B018LLIXB2/ref=emc_b_5_i\n/dp/B00UBONAAW/ref=emc_b_5_i\n/dp/B01MUFG6K3/ref=emc_b_5_t\n/dp/B076CVTPCF/ref=emc_b_5_t\n/dp/B018LLIXB2/ref=emc_b_5_t\n/dp/B00UBONAAW/ref=emc_b_5_t\njavascript:void(0)\n/product-reviews/B01N4M8EZI/ref=acr_dpproductdetail_text?ie=UTF8&showViewpoints=1\n/gp/bestsellers/apparel/ref=pd_zg_ts_apparel\n/gp/bestsellers/apparel/3074199031/ref=pd_zg_hrsr_apparel\njavascript:void(0)\nhttps://www.amazon.es/ask/questions/asin/B01N4M8EZI\n#\n/product-reviews/B01N4M8EZI/ref=acr_dp_hist_5?ie=UTF8&filterByStar=five_star&reviewerType=all_reviews#reviews-filter-bar\n/product-reviews/B01N4M8EZI/ref=acr_dp_hist_5?ie=UTF8&filterByStar=five_star&reviewerType=all_reviews#reviews-filter-bar\n/product-reviews/B01N4M8EZI/ref=acr_dp_hist_5?ie=UTF8&filterByStar=five_star&reviewerType=all_reviews#reviews-filter-bar\n/product-reviews/B01N4M8EZI/ref=acr_dp_hist_4?ie=UTF8&filterByStar=four_star&reviewerType=all_reviews#reviews-filter-bar\n/product-reviews/B01N4M8EZI/ref=acr_dp_hist_4?ie=UTF8&filterByStar=four_star&reviewerType=all_reviews#reviews-filter-bar\n/product-reviews/B01N4M8EZI/ref=acr_dp_hist_4?ie=UTF8&filterByStar=four_star&reviewerType=all_reviews#reviews-filter-bar\n/product-reviews/B01N4M8EZI/ref=acr_dp_hist_3?ie=UTF8&filterByStar=three_star&reviewerType=all_reviews#reviews-filter-bar\n/product-reviews/B01N4M8EZI/ref=acr_dp_hist_3?ie=UTF8&filterByStar=three_star&reviewerType=all_reviews#reviews-filter-bar\n/product-reviews/B01N4M8EZI/ref=acr_dp_hist_3?ie=UTF8&filterByStar=three_star&reviewerType=all_reviews#reviews-filter-bar\n/product-reviews/B01N4M8EZI/ref=acr_dp_hist_2?ie=UTF8&filterByStar=two_star&reviewerType=all_reviews#reviews-filter-bar\n/product-reviews/B01N4M8EZI/ref=acr_dp_hist_2?ie=UTF8&filterByStar=two_star&reviewerType=all_reviews#reviews-filter-bar\n/product-reviews/B01N4M8EZI/ref=acr_dp_hist_2?ie=UTF8&filterByStar=two_star&reviewerType=all_reviews#reviews-filter-bar\n/product-reviews/B01N4M8EZI/ref=acr_dp_hist_1?ie=UTF8&filterByStar=one_star&reviewerType=all_reviews#reviews-filter-bar\n/product-reviews/B01N4M8EZI/ref=acr_dp_hist_1?ie=UTF8&filterByStar=one_star&reviewerType=all_reviews#reviews-filter-bar\n/product-reviews/B01N4M8EZI/ref=acr_dp_hist_1?ie=UTF8&filterByStar=one_star&reviewerType=all_reviews#reviews-filter-bar\njavascript:void(0)\n#\n/gp/profile/amzn1.account.AHEGTKELGND6RL3OPVDG55BPV3RA\n/gp/customer-reviews/R2W48ZLYGJBYDN?ASIN=B01N4M8EZI\n/gp/customer-reviews/R2W48ZLYGJBYDN?ASIN=B01N4M8EZI\njavascript:void(0)\nhttps://www.amazon.es/ap/signin?openid.return_to=https%3A%2F%2Fwww.amazon.es%2Fdp%2FB01N4M8EZI%3FvoteInstanceId%3DR2W48ZLYGJBYDN%26voteValue%3D1%26csrfT%3Dgmjo5qsJRrKl254DZkSqltpx0ZxebM6BEB2bE3AAAAABAAAAAF8cdFpyYXcAAAAA%252B4kUEk%252F7iMGR3xPcX6iU%23R2W48ZLYGJBYDN&openid.identity=http%3A%2F%2Fspecs.openid.net%2Fauth%2F2.0%2Fidentifier_select&openid.claimed_id=http%3A%2F%2Fspecs.openid.net%2Fauth%2F2.0%2Fidentifier_select&openid.assoc_handle=esflex&openid.mode=checkid_setup&openid.ns=http%3A%2F%2Fspecs.openid.net%2Fauth%2F2.0\n/gp/customer-reviews/R2W48ZLYGJBYDN?ASIN=B01N4M8EZI#wasThisHelpful\n/hz/reviews-render/report-abuse?voteDomain=Reviews&ref=cm_cr_dp_d_report&csrfT=gmjo5qsJRrKl254DZkSqltpx0ZxebM6BEB2bE3AAAAABAAAAAF8cdFpyYXcAAAAA%2B4kUEk%2F7iMGR3xPcX6iU&entityId=R2W48ZLYGJBYDN&sessionId=000-0000000-0000000\n/gp/profile/amzn1.account.AHB7XDT4B26RIE3FNRHC6HNKIPQQ\n/gp/customer-reviews/RKA6MM2TL9HVR?ASIN=B01N4M8EZI\n/gp/customer-reviews/RKA6MM2TL9HVR?ASIN=B01N4M8EZI\njavascript:void(0)\nhttps://www.amazon.es/ap/signin?openid.return_to=https%3A%2F%2Fwww.amazon.es%2Fdp%2FB01N4M8EZI%3FvoteInstanceId%3DRKA6MM2TL9HVR%26voteValue%3D1%26csrfT%3DgnkGRaFknFLw8uIGGqAhc4jeLK%252FHhv%252FA4RVHbYMAAAABAAAAAF8cdFpyYXcAAAAA%252B4kUEk%252F7iMGR3xPcX6iU%23RKA6MM2TL9HVR&openid.identity=http%3A%2F%2Fspecs.openid.net%2Fauth%2F2.0%2Fidentifier_select&openid.claimed_id=http%3A%2F%2Fspecs.openid.net%2Fauth%2F2.0%2Fidentifier_select&openid.assoc_handle=esflex&openid.mode=checkid_setup&openid.ns=http%3A%2F%2Fspecs.openid.net%2Fauth%2F2.0\n/gp/customer-reviews/RKA6MM2TL9HVR?ASIN=B01N4M8EZI#wasThisHelpful\n/hz/reviews-render/report-abuse?voteDomain=Reviews&ref=cm_cr_dp_d_report&csrfT=gnkGRaFknFLw8uIGGqAhc4jeLK%2FHhv%2FA4RVHbYMAAAABAAAAAF8cdFpyYXcAAAAA%2B4kUEk%2F7iMGR3xPcX6iU&entityId=RKA6MM2TL9HVR&sessionId=000-0000000-0000000\n/gp/profile/amzn1.account.AEEHC4FDIGWTNQZRF5NX2UL6KZBQ\n/gp/customer-reviews/R3098UA1HCRGFN?ASIN=B01N4M8EZI\n/gp/customer-reviews/R3098UA1HCRGFN?ASIN=B01N4M8EZI\njavascript:void(0)\nhttps://www.amazon.es/ap/signin?openid.return_to=https%3A%2F%2Fwww.amazon.es%2Fdp%2FB01N4M8EZI%3FvoteInstanceId%3DR3098UA1HCRGFN%26voteValue%3D1%26csrfT%3DgnSLKtzJKRKM70tsOEFmpPMl3hI7SvOm88copAcAAAABAAAAAF8cdFpyYXcAAAAA%252B4kUEk%252F7iMGR3xPcX6iU%23R3098UA1HCRGFN&openid.identity=http%3A%2F%2Fspecs.openid.net%2Fauth%2F2.0%2Fidentifier_select&openid.claimed_id=http%3A%2F%2Fspecs.openid.net%2Fauth%2F2.0%2Fidentifier_select&openid.assoc_handle=esflex&openid.mode=checkid_setup&openid.ns=http%3A%2F%2Fspecs.openid.net%2Fauth%2F2.0\n/gp/customer-reviews/R3098UA1HCRGFN?ASIN=B01N4M8EZI#wasThisHelpful\n/hz/reviews-render/report-abuse?voteDomain=Reviews&ref=cm_cr_dp_d_report&csrfT=gnSLKtzJKRKM70tsOEFmpPMl3hI7SvOm88copAcAAAABAAAAAF8cdFpyYXcAAAAA%2B4kUEk%2F7iMGR3xPcX6iU&entityId=R3098UA1HCRGFN&sessionId=000-0000000-0000000\n/gp/profile/amzn1.account.AGIQPAKZMA7FUOZW5I4CU5EEQCBQ\n/gp/customer-reviews/R47ZLOZFEUY33?ASIN=B01N4M8EZI\n/gp/customer-reviews/R47ZLOZFEUY33?ASIN=B01N4M8EZI\njavascript:void(0)\nhttps://www.amazon.es/ap/signin?openid.return_to=https%3A%2F%2Fwww.amazon.es%2Fdp%2FB01N4M8EZI%3FvoteInstanceId%3DR47ZLOZFEUY33%26voteValue%3D1%26csrfT%3DgsAL2iE0aBBMDb0oE%252F8j%252F%252Bgq%252FXoTfSewHR8RAFwAAAABAAAAAF8cdFpyYXcAAAAA%252B4kUEk%252F7iMGR3xPcX6iU%23R47ZLOZFEUY33&openid.identity=http%3A%2F%2Fspecs.openid.net%2Fauth%2F2.0%2Fidentifier_select&openid.claimed_id=http%3A%2F%2Fspecs.openid.net%2Fauth%2F2.0%2Fidentifier_select&openid.assoc_handle=esflex&openid.mode=checkid_setup&openid.ns=http%3A%2F%2Fspecs.openid.net%2Fauth%2F2.0\n/gp/customer-reviews/R47ZLOZFEUY33?ASIN=B01N4M8EZI#wasThisHelpful\n/hz/reviews-render/report-abuse?voteDomain=Reviews&ref=cm_cr_dp_d_report&csrfT=gsAL2iE0aBBMDb0oE%2F8j%2F%2Bgq%2FXoTfSewHR8RAFwAAAABAAAAAF8cdFpyYXcAAAAA%2B4kUEk%2F7iMGR3xPcX6iU&entityId=R47ZLOZFEUY33&sessionId=000-0000000-0000000\n/gp/profile/amzn1.account.AGMHPZAMX7LDWBZ3GYN4Q54UE54A\n/gp/customer-reviews/R2ZQR8P41M3AYF?ASIN=B01N4M8EZI\n/gp/customer-reviews/R2ZQR8P41M3AYF?ASIN=B01N4M8EZI\njavascript:void(0)\nhttps://www.amazon.es/ap/signin?openid.return_to=https%3A%2F%2Fwww.amazon.es%2Fdp%2FB01N4M8EZI%3FvoteInstanceId%3DR2ZQR8P41M3AYF%26voteValue%3D1%26csrfT%3DggVkoYVXK1etodw6lc%252F1I9619amDojPKlpz5vYkAAAABAAAAAF8cdFpyYXcAAAAA%252B4kUEk%252F7iMGR3xPcX6iU%23R2ZQR8P41M3AYF&openid.identity=http%3A%2F%2Fspecs.openid.net%2Fauth%2F2.0%2Fidentifier_select&openid.claimed_id=http%3A%2F%2Fspecs.openid.net%2Fauth%2F2.0%2Fidentifier_select&openid.assoc_handle=esflex&openid.mode=checkid_setup&openid.ns=http%3A%2F%2Fspecs.openid.net%2Fauth%2F2.0\n/gp/customer-reviews/R2ZQR8P41M3AYF?ASIN=B01N4M8EZI#wasThisHelpful\n/hz/reviews-render/report-abuse?voteDomain=Reviews&ref=cm_cr_dp_d_report&csrfT=ggVkoYVXK1etodw6lc%2F1I9619amDojPKlpz5vYkAAAABAAAAAF8cdFpyYXcAAAAA%2B4kUEk%2F7iMGR3xPcX6iU&entityId=R2ZQR8P41M3AYF&sessionId=000-0000000-0000000\n/gp/profile/amzn1.account.AFCHQUYDGEMFLK7LIALCSVKKLNKQ\n/gp/customer-reviews/R12VODNR2TJ1NI?ASIN=B01N4M8EZI\n/gp/customer-reviews/R12VODNR2TJ1NI?ASIN=B01N4M8EZI\njavascript:void(0)\nhttps://www.amazon.es/ap/signin?openid.return_to=https%3A%2F%2Fwww.amazon.es%2Fdp%2FB01N4M8EZI%3FvoteInstanceId%3DR12VODNR2TJ1NI%26voteValue%3D1%26csrfT%3DgtnJjVRSTQi55DkLlG7D09rfh0Zg3%252Bd1dIY49bgAAAABAAAAAF8cdFpyYXcAAAAA%252B4kUEk%252F7iMGR3xPcX6iU%23R12VODNR2TJ1NI&openid.identity=http%3A%2F%2Fspecs.openid.net%2Fauth%2F2.0%2Fidentifier_select&openid.claimed_id=http%3A%2F%2Fspecs.openid.net%2Fauth%2F2.0%2Fidentifier_select&openid.assoc_handle=esflex&openid.mode=checkid_setup&openid.ns=http%3A%2F%2Fspecs.openid.net%2Fauth%2F2.0\n/gp/customer-reviews/R12VODNR2TJ1NI?ASIN=B01N4M8EZI#wasThisHelpful\n/hz/reviews-render/report-abuse?voteDomain=Reviews&ref=cm_cr_dp_d_report&csrfT=gtnJjVRSTQi55DkLlG7D09rfh0Zg3%2Bd1dIY49bgAAAABAAAAAF8cdFpyYXcAAAAA%2B4kUEk%2F7iMGR3xPcX6iU&entityId=R12VODNR2TJ1NI&sessionId=000-0000000-0000000\n/gp/profile/amzn1.account.AGBT3XTQEJARMZPSW6LDAVJYU7NA\n/gp/customer-reviews/R5BHNDNW89SEO?ASIN=B01N4M8EZI\n/gp/customer-reviews/R5BHNDNW89SEO?ASIN=B01N4M8EZI\njavascript:void(0)\nhttps://www.amazon.es/ap/signin?openid.return_to=https%3A%2F%2Fwww.amazon.es%2Fdp%2FB01N4M8EZI%3FvoteInstanceId%3DR5BHNDNW89SEO%26voteValue%3D1%26csrfT%3DggHFsmz59OGI2%252BIX%252B7mXYE8PySliD0GauqO4CtoAAAABAAAAAF8cdFpyYXcAAAAA%252B4kUEk%252F7iMGR3xPcX6iU%23R5BHNDNW89SEO&openid.identity=http%3A%2F%2Fspecs.openid.net%2Fauth%2F2.0%2Fidentifier_select&openid.claimed_id=http%3A%2F%2Fspecs.openid.net%2Fauth%2F2.0%2Fidentifier_select&openid.assoc_handle=esflex&openid.mode=checkid_setup&openid.ns=http%3A%2F%2Fspecs.openid.net%2Fauth%2F2.0\n/gp/customer-reviews/R5BHNDNW89SEO?ASIN=B01N4M8EZI#wasThisHelpful\n/hz/reviews-render/report-abuse?voteDomain=Reviews&ref=cm_cr_dp_d_report&csrfT=ggHFsmz59OGI2%2BIX%2B7mXYE8PySliD0GauqO4CtoAAAABAAAAAF8cdFpyYXcAAAAA%2B4kUEk%2F7iMGR3xPcX6iU&entityId=R5BHNDNW89SEO&sessionId=000-0000000-0000000\n/gp/profile/amzn1.account.AEKSPSAP2G5Q6CPWXMR772FOSDTQ\n/gp/customer-reviews/R2KIBO4TZC1RL?ASIN=B01N4M8EZI\n/gp/customer-reviews/R2KIBO4TZC1RL?ASIN=B01N4M8EZI\njavascript:void(0)\nhttps://www.amazon.es/ap/signin?openid.return_to=https%3A%2F%2Fwww.amazon.es%2Fdp%2FB01N4M8EZI%3FvoteInstanceId%3DR2KIBO4TZC1RL%26voteValue%3D1%26csrfT%3Dgjjp%252Bgu0BvIC0x5L9H99PoswA%252Fz%252FdqezmXm3tYAAAAABAAAAAF8cdFpyYXcAAAAA%252B4kUEk%252F7iMGR3xPcX6iU%23R2KIBO4TZC1RL&openid.identity=http%3A%2F%2Fspecs.openid.net%2Fauth%2F2.0%2Fidentifier_select&openid.claimed_id=http%3A%2F%2Fspecs.openid.net%2Fauth%2F2.0%2Fidentifier_select&openid.assoc_handle=esflex&openid.mode=checkid_setup&openid.ns=http%3A%2F%2Fspecs.openid.net%2Fauth%2F2.0\n/gp/customer-reviews/R2KIBO4TZC1RL?ASIN=B01N4M8EZI#wasThisHelpful\n/hz/reviews-render/report-abuse?voteDomain=Reviews&ref=cm_cr_dp_d_report&csrfT=gjjp%2Bgu0BvIC0x5L9H99PoswA%2Fz%2FdqezmXm3tYAAAAABAAAAAF8cdFpyYXcAAAAA%2B4kUEk%2F7iMGR3xPcX6iU&entityId=R2KIBO4TZC1RL&sessionId=000-0000000-0000000\n/Tommy-Hilfiger-UM0UM00054-Camiseta-Hombre/product-reviews/B01N4M8EZI?reviewerType=all_reviews\n#customerReviews\njavascript:void(0)\n/hz/reviews-render/report-abuse?voteDomain=Reviews&ref=cm_cr_dp_d_freport&csrfT=gsJwNF5nN5c%2BDLlhphQl%2FDZeC6AI67EPu7Hw2PQAAAABAAAAAF8cdFpyYXcAAAAA%2B4kUEk%2F7iMGR3xPcX6iU&entityId=R3D92DGONVUQU2&sessionId=000-0000000-0000000\n#customerReviews\njavascript:void(0)\n/hz/reviews-render/report-abuse?voteDomain=Reviews&ref=cm_cr_dp_d_freport&csrfT=gpbQUxr04SWLYz%2FXH%2B39xZlas2AKRSVw26O3%2B7oAAAABAAAAAF8cdFpyYXcAAAAA%2B4kUEk%2F7iMGR3xPcX6iU&entityId=R3VFRNP34HWQ5B&sessionId=000-0000000-0000000\n#customerReviews\njavascript:void(0)\n/hz/reviews-render/report-abuse?voteDomain=Reviews&ref=cm_cr_dp_d_freport&csrfT=gixzghrUdfrPiuBT30Dj7dXfGmMyRUsjkSBFeigAAAABAAAAAF8cdFpyYXcAAAAA%2B4kUEk%2F7iMGR3xPcX6iU&entityId=R32EYCIIBBIR1K&sessionId=000-0000000-0000000\n#customerReviews\njavascript:void(0)\n/hz/reviews-render/report-abuse?voteDomain=Reviews&ref=cm_cr_dp_d_freport&csrfT=ggjYtDbHwQTslkJfzH2LZol0SHJeLzKt96hfFHcAAAABAAAAAF8cdFpyYXcAAAAA%2B4kUEk%2F7iMGR3xPcX6iU&entityId=RTEJ05I50SX4&sessionId=000-0000000-0000000\n#customerReviews\njavascript:void(0)\n/hz/reviews-render/report-abuse?voteDomain=Reviews&ref=cm_cr_dp_d_freport&csrfT=gsu4XKv6I2s724Uik4FHlmcQuuOn8AogNz%2BjemcAAAABAAAAAF8cdFpyYXcAAAAA%2B4kUEk%2F7iMGR3xPcX6iU&entityId=R1SFX9ZIG1P4OU&sessionId=000-0000000-0000000\n#customerReviews\njavascript:void(0)\n/hz/reviews-render/report-abuse?voteDomain=Reviews&ref=cm_cr_dp_d_freport&csrfT=ggFV3OvBmNmFlwencPhZVTC5NUNIx2gghb3SyjEAAAABAAAAAF8cdFpyYXcAAAAA%2B4kUEk%2F7iMGR3xPcX6iU&entityId=R1HTFTGQ9AG7VO&sessionId=000-0000000-0000000\n#customerReviews\njavascript:void(0)\n/hz/reviews-render/report-abuse?voteDomain=Reviews&ref=cm_cr_dp_d_freport&csrfT=guKINB8qqJfmOKWpb%2Fdqexe%2FgD%2F6b%2BNCX9xZbB8AAAABAAAAAF8cdFpyYXcAAAAA%2B4kUEk%2F7iMGR3xPcX6iU&entityId=R2386LAW7RWMPG&sessionId=000-0000000-0000000\n#customerReviews\njavascript:void(0)\n/hz/reviews-render/report-abuse?voteDomain=Reviews&ref=cm_cr_dp_d_freport&csrfT=gqhAon8%2FhXovGY8C7jPHk34cdlLsEQQOQy2uxnkAAAABAAAAAF8cdFpyYXcAAAAA%2B4kUEk%2F7iMGR3xPcX6iU&entityId=R3ANVRCC5CYQHE&sessionId=000-0000000-0000000\n#customerReviews\njavascript:void(0)\n/hz/reviews-render/report-abuse?voteDomain=Reviews&ref=cm_cr_dp_d_freport&csrfT=glSLHFK69KBykrCrRfACSY%2B531YsoHoRjIXkpSwAAAABAAAAAF8cdFpyYXcAAAAA%2B4kUEk%2F7iMGR3xPcX6iU&entityId=R36IVD0H0BX162&sessionId=000-0000000-0000000\n#customerReviews\njavascript:void(0)\n/hz/reviews-render/report-abuse?voteDomain=Reviews&ref=cm_cr_dp_d_freport&csrfT=gmiHN7Q53TsDWaeBYCgVr7WnWHobOLNzzt2ycKAAAAABAAAAAF8cdFpyYXcAAAAA%2B4kUEk%2F7iMGR3xPcX6iU&entityId=R3S0RZL26AHKUN&sessionId=000-0000000-0000000\n#customerReviews\njavascript:void(0)\n/hz/reviews-render/report-abuse?voteDomain=Reviews&ref=cm_cr_dp_d_freport&csrfT=gqarT8wVVK2j0Apnx9QA0uaDVRmUUgxYidvelXcAAAABAAAAAF8cdFpyYXcAAAAA%2B4kUEk%2F7iMGR3xPcX6iU&entityId=R10L9BL5VOSRBI&sessionId=000-0000000-0000000\n#customerReviews\njavascript:void(0)\n/hz/reviews-render/report-abuse?voteDomain=Reviews&ref=cm_cr_dp_d_freport&csrfT=gtSUH%2Fu525JxUe%2BpEzu2K8FNsdDCOyoPH598bBoAAAABAAAAAF8cdFpyYXcAAAAA%2B4kUEk%2F7iMGR3xPcX6iU&entityId=R21T59RS9MY7FX&sessionId=000-0000000-0000000\n#customerReviews\njavascript:void(0)\n/hz/reviews-render/report-abuse?voteDomain=Reviews&ref=cm_cr_dp_d_freport&csrfT=gpf8WaZmnoCyvhc%2BmogTVmdRdsto85oyRqj2IBMAAAABAAAAAF8cdFpyYXcAAAAA%2B4kUEk%2F7iMGR3xPcX6iU&entityId=R1C5D272FSS9C5&sessionId=000-0000000-0000000\n#customerReviews\njavascript:void(0)\n/hz/reviews-render/report-abuse?voteDomain=Reviews&ref=cm_cr_dp_d_freport&csrfT=gkF20LoNh%2B4hID980wkD0yGZ3KOOdykNDUMD6ZwAAAABAAAAAF8cdFpyYXcAAAAA%2B4kUEk%2F7iMGR3xPcX6iU&entityId=R9G4CQC6YCIV3&sessionId=000-0000000-0000000\n#customerReviews\njavascript:void(0)\n/hz/reviews-render/report-abuse?voteDomain=Reviews&ref=cm_cr_dp_d_freport&csrfT=ghBBCigXiCEtv1qwRCofKKq6hEKorAsmSLwR30MAAAABAAAAAF8cdFpyYXcAAAAA%2B4kUEk%2F7iMGR3xPcX6iU&entityId=R26JBPYVG2ZH5N&sessionId=000-0000000-0000000\n#customerReviews\n/Tommy-Hilfiger-UM0UM00054-Camiseta-Hombre/product-reviews/B01N4M8EZI?reviewerType=all_reviews\n/prime\n/gp/prime\n#nav-top\n/b?ie=UTF8&node=923374031&ref_=footer_gw_m_b_careers\nhttp://www.amazon.es/sobreamazon\nhttps://sostenibilidad.aboutamazon.es/?utm_source=gateway&utm_medium=footer&ref_=susty_footer\nhttps://services.amazon.es/servicios/vender-por-internet/como-funciona-pro.html?ref=azessoafoo&ld=AZESSOAFooter\nhttps://accelerator.amazon.es/?ref_=map_1_b2b_GW_FT\nhttps://services.amazon.es/servicios/llegue-a-los-clientes-profesionales/caractersticas-y-ventajas.html?ld=AZESB2BRetailFooter\nhttps://services.amazon.es/handmade.htm?ref=azessoafoo&ld=AZESHNDFooter\nhttps://afiliados.amazon.es/\nhttps://services.amazon.es/servicios/logistica-de-amazon/funciones-y-ventajas/?ld=AZESFBAFooter\nhttps://advertising.amazon.es/products-self-serve?ref_=ext_amzn_ftr\nhttps://kdp.amazon.com/?language=es_ES\nhttps://pay.amazon.com/es?ld=AWREESAPAFooter\n/gp/help/customer/display.html?ie=UTF8&nodeId=201262600&ref_=footer_payment\n/gp/help/customer/display.html?ie=UTF8&nodeId=201239250&ref_=footer_tfx\n/gp/gc?ie=UTF8&ref_=footer_giftcards\n/gp/gc/create?ie=UTF8&ref_=footer_topup_es\n/b?ie=UTF8&node=15417070031&ref_=footer_purchase_code\n/gp/help/customer/display.html?ie=UTF8&nodeId=GDFU3JS5AL6SYHRD&ref_=footer_covid\n/gp/css/order-history?ie=UTF8&ref_=footer_hp_ss_comp_tmp\n/gp/help/customer/display.html?ie=UTF8&nodeId=200522630&ref_=footer_shiprates\n/gp/prime?ie=UTF8&ref_=footer_prime\n/gp/css/returns/homepage.html?ie=UTF8&ref_=footer_hy_f_4\n/gp/help/customer/display.html?ie=UTF8&nodeId=201819410&ref_=footer_disposal\n/gp/digital/fiona/manage?ie=UTF8&ref_=footer_myk\n/b?ie=UTF8&node=5061838031&ref_=footer_mobapp\n/gp/BIT/ref=footer_bit_v2_e0005?bitCampaignCode=e0005\n/gp/help/customer/display.html?ie=UTF8&nodeId=200507590&ref_=footer_gw_m_b_cs\n/gp/help/customer/display.html?ie=UTF8&nodeId=201239260&ref_=footer_vat\n/ref=footer_logo\nhttps://www.amazon.com.au/ref=footer_au\nhttps://www.amazon.de/ref=footer_de\nhttps://www.amazon.com.br/ref=footer_br\nhttps://www.amazon.ca/ref=footer_ca\nhttps://www.amazon.cn/ref=footer_cn\nhttps://www.amazon.com/ref=footer_us\nhttps://www.amazon.fr/ref=footer_fr\nhttps://www.amazon.in/ref=footer_in\nhttps://www.amazon.it/ref=footer_it\nhttps://www.amazon.co.jp/ref=footer_jp\nhttps://www.amazon.com.mx/ref=footer_mx\nhttps://www.amazon.nl/ref=footer_nl\nhttps://www.amazon.ae/ref=footer_ae\nhttps://www.amazon.co.uk/ref=footer_uk\nhttps://www.amazon.sg/ref=footer_sg\nhttps://www.amazon.com.tr/ref=footer_tr\nhttps://music.amazon.es/?ref=dm_aff_amz_es\nhttps://www.iberlibro.com/\nhttps://aws.amazon.com/es/?sc_channel=EL&sc_campaign=ES_amazonfooter\nhttps://www.bookdepository.com/\nhttps://kdp.amazon.com/?language=es_ES\nhttps://primenow.amazon.es/?ref=HOUD12C322_0_GlobalFooter\n/Productos-Reacondicionados/b?ie=UTF8&node=3582001031&ref_=footer_wrhsdls\nhttps://www.shopbop.com/\n/b?ie=UTF8&node=14862331031&ref_=nav_footer_business\n/amazonsecondchance?_encoding=UTF8&ref_=footer_asc\n/gp/help/customer/display.html?ie=UTF8&nodeId=201909000&ref_=footer_cou\n/gp/help/customer/display.html?ie=UTF8&nodeId=201909010&ref_=footer_privacy\n/gp/help/customer/display.html?ie=UTF8&nodeId=201909250&ref_=footer_legal_area\n/gp/help/customer/display.html?ie=UTF8&nodeId=201890250&ref_=footer_cookies_notice\n/gp/help/customer/display.html?ie=UTF8&nodeId=201909150&ref_=footer_Interest_Based_Ads_Notice\n"
    }
   ],
   "source": [
    "#I need to find all the contents after \"href\"\n",
    "list_of_links = []\n",
    "for link in links:\n",
    "    href = link.get('href')\n",
    "    print(href)"
   ]
  },
  {
   "cell_type": "code",
   "execution_count": 391,
   "metadata": {},
   "outputs": [
    {
     "output_type": "execute_result",
     "data": {
      "text/plain": "'24,85 € - 45,00 €'"
     },
     "metadata": {},
     "execution_count": 391
    }
   ],
   "source": [
    "price = '24,85 € - 45,00 €'\n",
    "price"
   ]
  },
  {
   "cell_type": "code",
   "execution_count": 392,
   "metadata": {},
   "outputs": [
    {
     "output_type": "execute_result",
     "data": {
      "text/plain": "                                           item_name         item_price\n0  [Tommy Hilfiger Logo Camiseta de Cuello Redond...  24,85 € - 45,00 €",
      "text/html": "<div>\n<style scoped>\n    .dataframe tbody tr th:only-of-type {\n        vertical-align: middle;\n    }\n\n    .dataframe tbody tr th {\n        vertical-align: top;\n    }\n\n    .dataframe thead th {\n        text-align: right;\n    }\n</style>\n<table border=\"1\" class=\"dataframe\">\n  <thead>\n    <tr style=\"text-align: right;\">\n      <th></th>\n      <th>item_name</th>\n      <th>item_price</th>\n    </tr>\n  </thead>\n  <tbody>\n    <tr>\n      <th>0</th>\n      <td>[Tommy Hilfiger Logo Camiseta de Cuello Redond...</td>\n      <td>24,85 € - 45,00 €</td>\n    </tr>\n  </tbody>\n</table>\n</div>"
     },
     "metadata": {},
     "execution_count": 392
    }
   ],
   "source": [
    "amazon = {'item_name': [item], 'item_price': [price]}\n",
    "df = pd.DataFrame(amazon)\n",
    "df"
   ]
  },
  {
   "cell_type": "code",
   "execution_count": null,
   "metadata": {},
   "outputs": [],
   "source": [
    "# Create \"for\" loop to print out all products' names\n",
    "for x in amazonproduct:\n",
    "    name = amazonproduct.contents[0]\n",
    "    print(name)"
   ]
  }
 ]
}